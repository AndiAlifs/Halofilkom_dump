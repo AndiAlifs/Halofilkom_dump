{
 "cells": [
  {
   "cell_type": "code",
   "execution_count": null,
   "metadata": {},
   "outputs": [],
   "source": [
    "# get data from sql \n",
    "import pandas as pd\n",
    "import numpy as np\n",
    "import matplotlib.pyplot as plt\n",
    "import seaborn as sns"
   ]
  },
  {
   "cell_type": "code",
   "execution_count": null,
   "metadata": {},
   "outputs": [],
   "source": [
    "# get data from sql\n",
    "import mysql.connector\n",
    "from mysql.connector import Error\n",
    "from mysql.connector import errorcode\n",
    "\n",
    "# get data from sql\n",
    "try:\n",
    "    connection = mysql.connector.connect(host='localhost',\n",
    "                                         database='test',\n",
    "                                         user='root',\n",
    "                                         password='root')\n",
    "    if connection.is_connected():\n",
    "        db_Info = connection.get_server_info()\n",
    "        print(\"Connected to MySQL Server version \", db_Info)\n",
    "        cursor = connection.cursor()\n",
    "        cursor.execute(\"select database();\")\n",
    "        record = cursor.fetchone()\n",
    "        print(\"You're connected to database: \", record)\n",
    "\n",
    "# transform the matrix\n",
    "df = np.array(random_matrix)\n",
    "df = pd.DataFrame(df)\n",
    "df = df.rename(columns={0: \"x\", 1: \"y\"})\n",
    "df = df.astype({\"x\": int, \"y\": int})\n",
    "df = df.sort_values(by=['x', 'y'])\n",
    "\n",
    "# plot the matrix\n",
    "sns.set(style=\"white\")\n",
    "\n",
    "# make the plot in bar"
   ]
  }
 ],
 "metadata": {
  "kernelspec": {
   "display_name": "Python 3.10.6 64-bit",
   "language": "python",
   "name": "python3"
  },
  "language_info": {
   "name": "python",
   "version": "3.10.6"
  },
  "orig_nbformat": 4,
  "vscode": {
   "interpreter": {
    "hash": "28eae9bd557633d1da885b313a415d212381d0b87dac30d636aacc2df031352f"
   }
  }
 },
 "nbformat": 4,
 "nbformat_minor": 2
}
