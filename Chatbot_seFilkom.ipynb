{
  "cells": [
    {
      "cell_type": "markdown",
      "metadata": {
        "id": "IS2NGidLpY7f"
      },
      "source": [
        "# Download intent"
      ]
    },
    {
      "cell_type": "code",
      "execution_count": 2,
      "metadata": {},
      "outputs": [],
      "source": [
        "nama_file = \"intents_terpaling_baru.json\""
      ]
    },
    {
      "cell_type": "code",
      "execution_count": 3,
      "metadata": {},
      "outputs": [
        {
          "name": "stdout",
          "output_type": "stream",
          "text": [
            "/bin/sh: 1: Syntax error: Unterminated quoted string\n"
          ]
        }
      ],
      "source": [
        "!wget \"https://raw.githubusercontent.com/AndiAlifs/Halofilkom_dump/master/\"$nama_file\""
      ]
    },
    {
      "cell_type": "markdown",
      "metadata": {
        "id": "fcb_HdSWvGwv"
      },
      "source": [
        "# Import Library"
      ]
    },
    {
      "cell_type": "code",
      "execution_count": 4,
      "metadata": {
        "id": "sV6h5ctRpsN_"
      },
      "outputs": [],
      "source": [
        "from email import message\n",
        "import json\n",
        "import random\n",
        "import string\n",
        "from unittest import result\n",
        "\n",
        "import nltk\n",
        "import numpy as np\n",
        "import pandas as pd\n",
        "from nltk.stem import WordNetLemmatizer\n",
        "\n",
        "import tensorflow as tf\n",
        "import joblib\n",
        "from tensorflow import keras\n",
        "from tensorflow.keras import Sequential\n",
        "from tensorflow.keras.layers import Dense, Dropout\n",
        "from sklearn.metrics import classification_report, precision_score, recall_score, f1_score, precision_recall_fscore_support\n",
        "import pickle\n",
        "\n",
        "import re\n",
        "import math\n",
        "from collections import Counter"
      ]
    },
    {
      "cell_type": "code",
      "execution_count": 5,
      "metadata": {
        "colab": {
          "base_uri": "https://localhost:8080/"
        },
        "id": "0w184H-8pvSO",
        "outputId": "86b1790e-e7d5-46bf-9d54-9122340b0636"
      },
      "outputs": [
        {
          "name": "stderr",
          "output_type": "stream",
          "text": [
            "[nltk_data] Downloading package punkt to\n",
            "[nltk_data]     /home/alfirsafauzulh@student.ub.ac.id/nltk_data...\n",
            "[nltk_data]   Package punkt is already up-to-date!\n",
            "[nltk_data] Downloading package wordnet to\n",
            "[nltk_data]     /home/alfirsafauzulh@student.ub.ac.id/nltk_data...\n",
            "[nltk_data]   Package wordnet is already up-to-date!\n",
            "[nltk_data] Downloading package omw-1.4 to\n",
            "[nltk_data]     /home/alfirsafauzulh@student.ub.ac.id/nltk_data...\n",
            "[nltk_data]   Package omw-1.4 is already up-to-date!\n"
          ]
        },
        {
          "data": {
            "text/plain": [
              "True"
            ]
          },
          "execution_count": 5,
          "metadata": {},
          "output_type": "execute_result"
        }
      ],
      "source": [
        "nltk.download(\"punkt\")\n",
        "nltk.download(\"wordnet\")\n",
        "nltk.download('omw-1.4')"
      ]
    },
    {
      "cell_type": "code",
      "execution_count": 6,
      "metadata": {
        "id": "EWIpx728pxAM"
      },
      "outputs": [],
      "source": [
        "f = open(nama_file, encoding=\"utf8\")\n",
        "data = json.load(f)\n",
        "f.close()\n",
        "\n",
        "# Mendapatkan Penggalan Kata\n",
        "lemmatizer = WordNetLemmatizer()"
      ]
    },
    {
      "cell_type": "code",
      "execution_count": 7,
      "metadata": {
        "id": "e6QoBMYlpywx"
      },
      "outputs": [],
      "source": [
        "# Menampung Penggalan Kata\n",
        "words = []\n",
        "classes = []\n",
        "doc_X = []\n",
        "doc_Y = []\n",
        "\n",
        "for intent in data[\"intents\"]:\n",
        "    for pattern in intent[\"patterns\"]:\n",
        "        token = nltk.word_tokenize(pattern)\n",
        "        words.extend(token)\n",
        "        doc_X.append(pattern)\n",
        "        doc_Y.append(intent[\"tag\"])\n",
        "\n",
        "# Menambahkan tag jika belum tersedia\n",
        "    if intent[\"tag\"] not in \"classes\":\n",
        "        classes.append(intent[\"tag\"])\n",
        "\n",
        "# stemmer = StemmerFactory().create_stemmer()\n",
        "\n",
        "words = [word.lower() for word in words if word not in string.punctuation and len(word) > 2]\n",
        "words = sorted(set(words))\n",
        "classes = sorted(set(classes))\n",
        "\n",
        "# List training Data\n",
        "training = []\n",
        "out_empty = [0] * len(classes)"
      ]
    },
    {
      "cell_type": "code",
      "execution_count": 8,
      "metadata": {
        "id": "8vem08LVswo6"
      },
      "outputs": [],
      "source": [
        "d = {'patterns': doc_X, 'classes': doc_Y}\n",
        "df = pd.DataFrame(data=d)"
      ]
    },
    {
      "cell_type": "code",
      "execution_count": 10,
      "metadata": {},
      "outputs": [],
      "source": [
        "df.to_csv('data_latih_bisakeknya.csv', index=False)"
      ]
    },
    {
      "cell_type": "code",
      "execution_count": 27,
      "metadata": {
        "colab": {
          "base_uri": "https://localhost:8080/"
        },
        "id": "HCNYRmzpDulE",
        "outputId": "b3cf554f-91cd-452d-8171-afe9fb1f53ee"
      },
      "outputs": [
        {
          "data": {
            "text/plain": [
              "<AxesSubplot:>"
            ]
          },
          "execution_count": 27,
          "metadata": {},
          "output_type": "execute_result"
        },
        {
          "data": {
            "image/png": "[encoded data removed]",
            "text/plain": [
              "<Figure size 432x288 with 1 Axes>"
            ]
          },
          "metadata": {
            "needs_background": "light"
          },
          "output_type": "display_data"
        }
      ],
      "source": [
        "df['classes'].value_counts().plot(kind='bar')"
      ]
    },
    {
      "cell_type": "code",
      "execution_count": 11,
      "metadata": {
        "id": "mEsH27Bdp2Ve"
      },
      "outputs": [],
      "source": [
        "training = []\n",
        "\n",
        "# Membuat Model Training Chatbot\n",
        "for idx, doc in enumerate(doc_X):\n",
        "    bow = []\n",
        "    text = doc.lower()\n",
        "    # text = stemmer.stem(text)\n",
        "    for word in words:\n",
        "        bow.append(1) if word in text else bow.append(0)\n",
        "\n",
        "    # membuat urutan index untuk class\n",
        "    output_row = list(out_empty)\n",
        "    output_row[classes.index(doc_Y[idx])] += 1\n",
        "\n",
        "    # add the one hot encoded BoW and associated classes to training\n",
        "    training.append([bow, output_row])\n",
        "\n",
        "# add no response training\n",
        "bow = [0 for i in range(len(words))]\n",
        "output_row = list(out_empty)\n",
        "output_row[classes.index('no_response')] += 1\n",
        "training.append([bow, output_row])\n",
        "\n",
        "# shuffle the data and convert it to an array\n",
        "random.shuffle(training)\n",
        "training = np.array(training, dtype=object)\n",
        "\n",
        "# split the features and target labels\n",
        "train_X = np.array(list(training[:, 0]))\n",
        "train_y = np.array(list(training[:, 1]))\n",
        "\n",
        "# defining some parameters\n",
        "input_shape = (len(train_X[0]),)\n",
        "output_shape = len(train_y[0])"
      ]
    },
    {
      "cell_type": "markdown",
      "metadata": {
        "id": "zvshdtD3x9I9"
      },
      "source": [
        "# Training model ML"
      ]
    },
    {
      "cell_type": "code",
      "execution_count": 17,
      "metadata": {},
      "outputs": [],
      "source": [
        "# make a label encoding training data\n",
        "train_y_label = np.argmax(train_y, axis=1)"
      ]
    },
    {
      "cell_type": "markdown",
      "metadata": {},
      "source": [
        "## Random Forest"
      ]
    },
    {
      "cell_type": "code",
      "execution_count": 13,
      "metadata": {},
      "outputs": [],
      "source": [
        "def warn(*args, **kwargs):\n",
        "    pass\n",
        "import warnings\n",
        "warnings.warn = warn"
      ]
    },
    {
      "cell_type": "markdown",
      "metadata": {},
      "source": [
        "### using one hot encoding"
      ]
    },
    {
      "cell_type": "code",
      "execution_count": 14,
      "metadata": {
        "colab": {
          "base_uri": "https://localhost:8080/"
        },
        "id": "cbJZUv-Hu0r2",
        "outputId": "fc574e89-5b62-4405-a929-b5c1db9d46d3"
      },
      "outputs": [
        {
          "name": "stdout",
          "output_type": "stream",
          "text": [
            "              precision    recall  f1-score   support\n",
            "\n",
            "           0       0.00      0.00      0.00         0\n",
            "           1       1.00      1.00      1.00         1\n",
            "           2       1.00      1.00      1.00         7\n",
            "           3       1.00      1.00      1.00        13\n",
            "           4       0.00      0.00      0.00         0\n",
            "           5       0.95      0.60      0.73        30\n",
            "           6       0.94      0.57      0.71        30\n",
            "           7       0.00      0.00      0.00         0\n",
            "           8       0.00      0.00      0.00         0\n",
            "           9       0.00      0.00      0.00         0\n",
            "          10       1.00      0.67      0.80         3\n",
            "          11       1.00      1.00      1.00         1\n",
            "          12       1.00      1.00      1.00         2\n",
            "          13       1.00      0.97      0.98        30\n",
            "          14       0.00      0.00      0.00         0\n",
            "          15       1.00      0.97      0.98        30\n",
            "          16       0.96      0.73      0.83        30\n",
            "          17       0.00      0.00      0.00         0\n",
            "          18       0.00      0.00      0.00         0\n",
            "          19       0.90      0.63      0.75        30\n",
            "          20       0.90      1.00      0.95         9\n",
            "          21       1.00      0.93      0.97        30\n",
            "          22       1.00      1.00      1.00         5\n",
            "          23       1.00      1.00      1.00         4\n",
            "          24       0.92      0.73      0.81        30\n",
            "          25       0.50      0.14      0.22         7\n",
            "          26       1.00      1.00      1.00         9\n",
            "          27       0.00      0.00      0.00         0\n",
            "          28       0.00      0.00      0.00         0\n",
            "          29       1.00      0.98      0.99        47\n",
            "          30       1.00      0.70      0.82        30\n",
            "          31       0.00      0.00      0.00         0\n",
            "          32       0.00      0.00      0.00         0\n",
            "          33       0.97      1.00      0.99        99\n",
            "          34       0.95      0.95      0.95        21\n",
            "          35       0.96      0.80      0.87        30\n",
            "          36       0.00      0.00      0.00         0\n",
            "          37       0.00      0.00      0.00         0\n",
            "          38       0.00      0.00      0.00         0\n",
            "          39       0.00      0.00      0.00         0\n",
            "          40       0.00      0.00      0.00         0\n",
            "          41       1.00      1.00      1.00         1\n",
            "          42       0.00      0.00      0.00         0\n",
            "          43       0.00      0.00      0.00         0\n",
            "          44       0.00      0.00      0.00         1\n",
            "          45       1.00      0.97      0.98        30\n",
            "          46       1.00      0.71      0.83        14\n",
            "          47       0.00      0.00      0.00         0\n",
            "          48       1.00      0.67      0.80        30\n",
            "          49       1.00      1.00      1.00         8\n",
            "          50       1.00      0.75      0.86         4\n",
            "          51       1.00      0.94      0.97        17\n",
            "          52       1.00      0.93      0.97        30\n",
            "          53       0.96      0.87      0.91        30\n",
            "          54       1.00      1.00      1.00         7\n",
            "          55       0.96      0.73      0.83        30\n",
            "          56       1.00      1.00      1.00         1\n",
            "          57       0.00      0.00      0.00         0\n",
            "          58       1.00      0.40      0.57         5\n",
            "          59       0.00      0.00      0.00         0\n",
            "          60       1.00      0.67      0.80         6\n",
            "          61       1.00      0.80      0.89        30\n",
            "          62       0.00      0.00      0.00         0\n",
            "          63       1.00      0.77      0.87        30\n",
            "          64       0.85      1.00      0.92        56\n",
            "          65       1.00      0.93      0.97        30\n",
            "          66       1.00      1.00      1.00         4\n",
            "          67       1.00      0.60      0.75        30\n",
            "          68       1.00      1.00      1.00        30\n",
            "          69       0.00      0.00      0.00         0\n",
            "          70       1.00      0.90      0.95        30\n",
            "          71       1.00      1.00      1.00         2\n",
            "          72       0.00      0.00      0.00         0\n",
            "          73       1.00      1.00      1.00         1\n",
            "          74       1.00      1.00      1.00         6\n",
            "          75       0.00      0.00      0.00         0\n",
            "          76       0.93      0.87      0.90        30\n",
            "          77       1.00      0.80      0.89        15\n",
            "          78       0.00      0.00      0.00         0\n",
            "          79       0.00      0.00      0.00         0\n",
            "          80       0.00      0.00      0.00         0\n",
            "          81       1.00      1.00      1.00         1\n",
            "          82       1.00      0.97      0.98        30\n",
            "          83       1.00      0.77      0.87        30\n",
            "          84       0.00      0.00      0.00         0\n",
            "          85       0.00      0.00      0.00         0\n",
            "          86       0.00      0.00      0.00         0\n",
            "          87       1.00      1.00      1.00         2\n",
            "          88       1.00      1.00      1.00        30\n",
            "          89       1.00      1.00      1.00         3\n",
            "          90       1.00      0.93      0.96        27\n",
            "          91       1.00      1.00      1.00         5\n",
            "          92       0.00      0.00      0.00         0\n",
            "          93       0.97      1.00      0.98        30\n",
            "          94       0.00      0.00      0.00         0\n",
            "          95       1.00      1.00      1.00         1\n",
            "          96       1.00      1.00      1.00         1\n",
            "          97       1.00      0.87      0.93        30\n",
            "          98       1.00      1.00      1.00         4\n",
            "          99       0.93      0.93      0.93        30\n",
            "         100       1.00      1.00      1.00         1\n",
            "         101       0.00      0.00      0.00         0\n",
            "         102       1.00      1.00      1.00        35\n",
            "         103       0.97      0.97      0.97       110\n",
            "         104       0.00      0.00      0.00         0\n",
            "         105       1.00      0.90      0.95        30\n",
            "         106       0.00      0.00      0.00         0\n",
            "         107       1.00      1.00      1.00         2\n",
            "         108       0.00      0.00      0.00         0\n",
            "         109       1.00      0.90      0.95        30\n",
            "         110       0.00      0.00      0.00         0\n",
            "         111       1.00      0.83      0.91         6\n",
            "         112       0.00      0.00      0.00         0\n",
            "         113       0.00      0.00      0.00         1\n",
            "         114       0.80      0.27      0.40        30\n",
            "         115       0.62      0.33      0.43        30\n",
            "         116       1.00      1.00      1.00         1\n",
            "         117       0.00      0.00      0.00         0\n",
            "         118       1.00      1.00      1.00         2\n",
            "         119       0.00      0.00      0.00         0\n",
            "         120       1.00      1.00      1.00         3\n",
            "         121       0.00      0.00      0.00         0\n",
            "         122       0.97      1.00      0.98        28\n",
            "         123       0.96      0.87      0.91        30\n",
            "\n",
            "   micro avg       0.97      0.86      0.91      1599\n",
            "   macro avg       0.62      0.56      0.58      1599\n",
            "weighted avg       0.96      0.86      0.90      1599\n",
            " samples avg       0.86      0.86      0.86      1599\n",
            "\n"
          ]
        }
      ],
      "source": [
        "# machine learning model\n",
        "from sklearn.ensemble import RandomForestClassifier\n",
        "\n",
        "model_ml = RandomForestClassifier()\n",
        "model_ml.fit(train_X, train_y)\n",
        "y_preds = model_ml.predict(train_X)\n",
        "report_onehot_rf = classification_report(train_y, y_preds)\n",
        "print(report_onehot_rf)"
      ]
    },
    {
      "cell_type": "code",
      "execution_count": 15,
      "metadata": {},
      "outputs": [],
      "source": [
        "report_onehot_rf = classification_report(train_y, y_preds, output_dict=True)\n",
        "df_report_onehot_rf = pd.DataFrame(report_onehot_rf).transpose()\n",
        "df_report_onehot_rf.to_csv('report_onehot_rf.csv')"
      ]
    },
    {
      "cell_type": "markdown",
      "metadata": {},
      "source": [
        "### Use label encoding"
      ]
    },
    {
      "cell_type": "code",
      "execution_count": 18,
      "metadata": {},
      "outputs": [
        {
          "name": "stdout",
          "output_type": "stream",
          "text": [
            "              precision    recall  f1-score   support\n",
            "\n",
            "           1       1.00      1.00      1.00         1\n",
            "           2       1.00      1.00      1.00         7\n",
            "           3       1.00      1.00      1.00        13\n",
            "           5       0.74      0.77      0.75        30\n",
            "           6       0.69      0.83      0.76        30\n",
            "          10       0.50      1.00      0.67         3\n",
            "          11       1.00      1.00      1.00         1\n",
            "          12       1.00      1.00      1.00         2\n",
            "          13       1.00      0.97      0.98        30\n",
            "          15       0.97      1.00      0.98        30\n",
            "          16       0.81      0.87      0.84        30\n",
            "          19       0.87      0.67      0.75        30\n",
            "          20       0.90      1.00      0.95         9\n",
            "          21       0.94      1.00      0.97        30\n",
            "          22       1.00      1.00      1.00         5\n",
            "          23       1.00      1.00      1.00         4\n",
            "          24       0.78      0.83      0.81        30\n",
            "          25       0.50      0.57      0.53         7\n",
            "          26       1.00      1.00      1.00         9\n",
            "          29       1.00      0.98      0.99        47\n",
            "          30       1.00      0.70      0.82        30\n",
            "          33       0.97      1.00      0.99        99\n",
            "          34       0.95      0.95      0.95        21\n",
            "          35       0.87      0.90      0.89        30\n",
            "          41       1.00      1.00      1.00         1\n",
            "          44       0.00      0.00      0.00         1\n",
            "          45       0.97      1.00      0.98        30\n",
            "          46       1.00      0.71      0.83        14\n",
            "          48       0.81      0.83      0.82        30\n",
            "          49       1.00      1.00      1.00         8\n",
            "          50       1.00      0.75      0.86         4\n",
            "          51       1.00      0.94      0.97        17\n",
            "          52       1.00      0.93      0.97        30\n",
            "          53       0.90      0.93      0.92        30\n",
            "          54       1.00      1.00      1.00         7\n",
            "          55       0.88      0.77      0.82        30\n",
            "          56       1.00      1.00      1.00         1\n",
            "          58       0.62      1.00      0.77         5\n",
            "          60       0.83      0.83      0.83         6\n",
            "          61       0.90      0.90      0.90        30\n",
            "          63       0.90      0.87      0.88        30\n",
            "          64       0.85      1.00      0.92        56\n",
            "          65       0.94      0.97      0.95        30\n",
            "          66       1.00      1.00      1.00         4\n",
            "          67       0.82      0.77      0.79        30\n",
            "          68       1.00      1.00      1.00        30\n",
            "          70       1.00      0.90      0.95        30\n",
            "          71       1.00      1.00      1.00         2\n",
            "          73       1.00      1.00      1.00         1\n",
            "          74       1.00      1.00      1.00         6\n",
            "          76       0.90      0.87      0.88        30\n",
            "          77       0.88      0.93      0.90        15\n",
            "          81       1.00      1.00      1.00         1\n",
            "          82       1.00      0.97      0.98        30\n",
            "          83       0.93      0.87      0.90        30\n",
            "          87       1.00      1.00      1.00         2\n",
            "          88       1.00      1.00      1.00        30\n",
            "          89       1.00      1.00      1.00         3\n",
            "          90       0.96      0.96      0.96        27\n",
            "          91       1.00      1.00      1.00         5\n",
            "          93       0.97      1.00      0.98        30\n",
            "          95       1.00      1.00      1.00         1\n",
            "          96       1.00      1.00      1.00         1\n",
            "          97       0.93      0.93      0.93        30\n",
            "          98       1.00      1.00      1.00         4\n",
            "          99       0.91      0.97      0.94        30\n",
            "         100       1.00      1.00      1.00         1\n",
            "         102       1.00      1.00      1.00        35\n",
            "         103       0.92      0.99      0.95       110\n",
            "         105       0.97      0.93      0.95        30\n",
            "         107       1.00      1.00      1.00         2\n",
            "         109       1.00      0.90      0.95        30\n",
            "         111       1.00      0.83      0.91         6\n",
            "         113       0.00      0.00      0.00         1\n",
            "         114       0.59      0.63      0.61        30\n",
            "         115       0.58      0.47      0.52        30\n",
            "         116       1.00      1.00      1.00         1\n",
            "         118       1.00      1.00      1.00         2\n",
            "         120       1.00      1.00      1.00         3\n",
            "         122       0.97      1.00      0.98        28\n",
            "         123       0.96      0.87      0.91        30\n",
            "\n",
            "    accuracy                           0.91      1599\n",
            "   macro avg       0.91      0.90      0.90      1599\n",
            "weighted avg       0.91      0.91      0.91      1599\n",
            "\n"
          ]
        }
      ],
      "source": [
        "# machine learning model\n",
        "from sklearn.ensemble import RandomForestClassifier\n",
        "\n",
        "model_ml = RandomForestClassifier()\n",
        "model_ml.fit(train_X, train_y_label)\n",
        "y_preds = model_ml.predict(train_X)\n",
        "print(classification_report(train_y_label, y_preds))"
      ]
    },
    {
      "cell_type": "code",
      "execution_count": null,
      "metadata": {},
      "outputs": [],
      "source": []
    },
    {
      "cell_type": "code",
      "execution_count": 51,
      "metadata": {},
      "outputs": [],
      "source": [
        "report_label_rf = classification_report(train_y_labels, y_preds, output_dict=True)\n",
        "df_report_label_rf = pd.DataFrame(report_label_rf).transpose()\n",
        "df_report_label_rf.to_csv('report_label_rf.csv')"
      ]
    },
    {
      "cell_type": "markdown",
      "metadata": {},
      "source": [
        "## Naive Bayes"
      ]
    },
    {
      "cell_type": "markdown",
      "metadata": {},
      "source": [
        "### Menggunakan label encoding"
      ]
    },
    {
      "cell_type": "code",
      "execution_count": 52,
      "metadata": {},
      "outputs": [
        {
          "name": "stdout",
          "output_type": "stream",
          "text": [
            "              precision    recall  f1-score   support\n",
            "\n",
            "           1       0.00      0.00      0.00         1\n",
            "           2       0.00      0.00      0.00         7\n",
            "           3       0.90      0.69      0.78        13\n",
            "           5       0.50      0.23      0.32        30\n",
            "           6       0.72      0.43      0.54        30\n",
            "          10       1.00      0.33      0.50         3\n",
            "          11       0.00      0.00      0.00         1\n",
            "          12       0.00      0.00      0.00         2\n",
            "          13       0.92      0.37      0.52        30\n",
            "          15       0.78      0.93      0.85        30\n",
            "          16       0.74      0.47      0.57        30\n",
            "          19       0.65      0.43      0.52        30\n",
            "          20       1.00      0.22      0.36         9\n",
            "          21       0.75      0.10      0.18        30\n",
            "          22       0.00      0.00      0.00         5\n",
            "          23       1.00      0.75      0.86         4\n",
            "          24       1.00      0.17      0.29        30\n",
            "          25       0.00      0.00      0.00         7\n",
            "          26       1.00      0.44      0.62         9\n",
            "          29       0.47      0.74      0.57        47\n",
            "          30       0.57      0.27      0.36        30\n",
            "          33       0.56      1.00      0.72        99\n",
            "          34       0.91      1.00      0.95        21\n",
            "          35       0.62      0.50      0.56        30\n",
            "          41       0.00      0.00      0.00         1\n",
            "          44       0.00      0.00      0.00         1\n",
            "          45       0.93      0.93      0.93        30\n",
            "          46       1.00      0.07      0.13        14\n",
            "          48       0.48      0.73      0.58        30\n",
            "          49       1.00      0.25      0.40         8\n",
            "          50       1.00      0.25      0.40         4\n",
            "          51       0.94      0.94      0.94        17\n",
            "          52       0.60      0.87      0.71        30\n",
            "          53       0.52      0.53      0.52        30\n",
            "          54       1.00      0.86      0.92         7\n",
            "          55       0.58      0.47      0.52        30\n",
            "          56       0.00      0.00      0.00         1\n",
            "          58       0.00      0.00      0.00         5\n",
            "          60       1.00      0.50      0.67         6\n",
            "          61       0.57      0.40      0.47        30\n",
            "          63       0.70      0.77      0.73        30\n",
            "          64       0.74      1.00      0.85        56\n",
            "          65       0.95      0.70      0.81        30\n",
            "          66       1.00      0.25      0.40         4\n",
            "          67       0.79      0.50      0.61        30\n",
            "          68       0.81      0.97      0.88        30\n",
            "          70       0.67      0.53      0.59        30\n",
            "          71       0.00      0.00      0.00         2\n",
            "          73       0.00      0.00      0.00         1\n",
            "          74       1.00      0.67      0.80         6\n",
            "          76       0.64      0.93      0.76        30\n",
            "          77       0.83      0.33      0.48        15\n",
            "          81       0.00      0.00      0.00         1\n",
            "          82       0.86      0.63      0.73        30\n",
            "          83       0.64      0.53      0.58        30\n",
            "          87       0.00      0.00      0.00         2\n",
            "          88       0.75      0.70      0.72        30\n",
            "          89       0.00      0.00      0.00         3\n",
            "          90       0.69      0.89      0.77        27\n",
            "          91       1.00      0.40      0.57         5\n",
            "          93       0.94      0.50      0.65        30\n",
            "          95       0.00      0.00      0.00         1\n",
            "          96       0.00      0.00      0.00         1\n",
            "          97       0.92      0.80      0.86        30\n",
            "          98       1.00      0.25      0.40         4\n",
            "          99       0.53      0.97      0.68        30\n",
            "         100       0.00      0.00      0.00         1\n",
            "         102       0.56      0.69      0.62        35\n",
            "         103       0.36      0.99      0.53       110\n",
            "         105       1.00      0.17      0.29        30\n",
            "         107       0.00      0.00      0.00         2\n",
            "         109       0.72      0.43      0.54        30\n",
            "         111       0.00      0.00      0.00         6\n",
            "         113       0.00      0.00      0.00         1\n",
            "         114       0.60      0.40      0.48        30\n",
            "         115       0.58      0.23      0.33        30\n",
            "         116       0.00      0.00      0.00         1\n",
            "         118       0.00      0.00      0.00         2\n",
            "         120       0.00      0.00      0.00         3\n",
            "         122       0.89      0.86      0.87        28\n",
            "         123       0.91      0.33      0.49        30\n",
            "\n",
            "    accuracy                           0.62      1599\n",
            "   macro avg       0.55      0.40      0.42      1599\n",
            "weighted avg       0.68      0.62      0.59      1599\n",
            "\n"
          ]
        }
      ],
      "source": [
        "# import library naive bayes\n",
        "from sklearn.naive_bayes import MultinomialNB\n",
        "\n",
        "# membuat model naive bayes\n",
        "model_nb = MultinomialNB()\n",
        "model_nb.fit(train_X, train_y_labels)\n",
        "y_preds = model_nb.predict(train_X)\n",
        "print(classification_report(train_y_labels, y_preds))"
      ]
    },
    {
      "cell_type": "code",
      "execution_count": 53,
      "metadata": {},
      "outputs": [],
      "source": [
        "report_label_nb = classification_report(train_y_labels, y_preds, output_dict=True)\n",
        "df_report_label_nb = pd.DataFrame(report_label_nb).transpose()\n",
        "df_report_label_nb.to_csv('report_label_nb.csv')"
      ]
    },
    {
      "cell_type": "markdown",
      "metadata": {},
      "source": [
        "## KNN"
      ]
    },
    {
      "cell_type": "markdown",
      "metadata": {},
      "source": [
        "### Menggunakan one hot encoding"
      ]
    },
    {
      "cell_type": "code",
      "execution_count": 54,
      "metadata": {},
      "outputs": [
        {
          "name": "stdout",
          "output_type": "stream",
          "text": [
            "              precision    recall  f1-score   support\n",
            "\n",
            "           0       0.00      0.00      0.00         0\n",
            "           1       0.00      0.00      0.00         1\n",
            "           2       0.50      0.14      0.22         7\n",
            "           3       0.88      0.54      0.67        13\n",
            "           4       0.00      0.00      0.00         0\n",
            "           5       0.00      0.00      0.00        30\n",
            "           6       0.50      0.07      0.12        30\n",
            "           7       0.00      0.00      0.00         0\n",
            "           8       0.00      0.00      0.00         0\n",
            "           9       0.00      0.00      0.00         0\n",
            "          10       0.00      0.00      0.00         3\n",
            "          11       0.00      0.00      0.00         1\n",
            "          12       0.00      0.00      0.00         2\n",
            "          13       1.00      0.20      0.33        30\n",
            "          14       0.00      0.00      0.00         0\n",
            "          15       1.00      0.37      0.54        30\n",
            "          16       0.80      0.13      0.23        30\n",
            "          17       0.00      0.00      0.00         0\n",
            "          18       0.00      0.00      0.00         0\n",
            "          19       1.00      0.07      0.12        30\n",
            "          20       0.67      0.44      0.53         9\n",
            "          21       1.00      0.10      0.18        30\n",
            "          22       0.00      0.00      0.00         5\n",
            "          23       1.00      0.75      0.86         4\n",
            "          24       0.42      0.27      0.33        30\n",
            "          25       0.00      0.00      0.00         7\n",
            "          26       0.00      0.00      0.00         9\n",
            "          27       0.00      0.00      0.00         0\n",
            "          28       0.00      0.00      0.00         0\n",
            "          29       0.75      0.06      0.12        47\n",
            "          30       1.00      0.03      0.06        30\n",
            "          31       0.00      0.00      0.00         0\n",
            "          32       0.00      0.00      0.00         0\n",
            "          33       0.84      1.00      0.91        99\n",
            "          34       0.95      0.95      0.95        21\n",
            "          35       0.83      0.50      0.62        30\n",
            "          36       0.00      0.00      0.00         0\n",
            "          37       0.00      0.00      0.00         0\n",
            "          38       0.00      0.00      0.00         0\n",
            "          39       0.00      0.00      0.00         0\n",
            "          40       0.00      0.00      0.00         0\n",
            "          41       0.00      0.00      0.00         1\n",
            "          42       0.00      0.00      0.00         0\n",
            "          43       0.00      0.00      0.00         0\n",
            "          44       0.00      0.00      0.00         1\n",
            "          45       0.80      0.13      0.23        30\n",
            "          46       0.00      0.00      0.00        14\n",
            "          47       0.00      0.00      0.00         0\n",
            "          48       0.62      0.17      0.26        30\n",
            "          49       0.00      0.00      0.00         8\n",
            "          50       0.00      0.00      0.00         4\n",
            "          51       1.00      0.59      0.74        17\n",
            "          52       1.00      0.07      0.12        30\n",
            "          53       0.75      0.20      0.32        30\n",
            "          54       1.00      0.14      0.25         7\n",
            "          55       0.83      0.17      0.28        30\n",
            "          56       0.00      0.00      0.00         1\n",
            "          57       0.00      0.00      0.00         0\n",
            "          58       0.00      0.00      0.00         5\n",
            "          59       0.00      0.00      0.00         0\n",
            "          60       0.00      0.00      0.00         6\n",
            "          61       1.00      0.07      0.12        30\n",
            "          62       0.00      0.00      0.00         0\n",
            "          63       0.80      0.13      0.23        30\n",
            "          64       0.60      1.00      0.75        56\n",
            "          65       1.00      0.23      0.38        30\n",
            "          66       0.00      0.00      0.00         4\n",
            "          67       1.00      0.07      0.12        30\n",
            "          68       1.00      0.13      0.24        30\n",
            "          69       0.00      0.00      0.00         0\n",
            "          70       0.00      0.00      0.00        30\n",
            "          71       0.00      0.00      0.00         2\n",
            "          72       0.00      0.00      0.00         0\n",
            "          73       0.00      0.00      0.00         1\n",
            "          74       0.00      0.00      0.00         6\n",
            "          75       0.00      0.00      0.00         0\n",
            "          76       0.82      0.60      0.69        30\n",
            "          77       0.73      0.53      0.62        15\n",
            "          78       0.00      0.00      0.00         0\n",
            "          79       0.00      0.00      0.00         0\n",
            "          80       0.00      0.00      0.00         0\n",
            "          81       0.00      0.00      0.00         1\n",
            "          82       0.00      0.00      0.00        30\n",
            "          83       1.00      0.03      0.06        30\n",
            "          84       0.00      0.00      0.00         0\n",
            "          85       0.00      0.00      0.00         0\n",
            "          86       0.00      0.00      0.00         0\n",
            "          87       0.00      0.00      0.00         2\n",
            "          88       0.00      0.00      0.00        30\n",
            "          89       0.00      0.00      0.00         3\n",
            "          90       0.86      0.93      0.89        27\n",
            "          91       0.00      0.00      0.00         5\n",
            "          92       0.00      0.00      0.00         0\n",
            "          93       0.87      0.43      0.58        30\n",
            "          94       0.00      0.00      0.00         0\n",
            "          95       0.00      0.00      0.00         1\n",
            "          96       0.00      0.00      0.00         1\n",
            "          97       0.88      0.77      0.82        30\n",
            "          98       0.00      0.00      0.00         4\n",
            "          99       0.68      0.77      0.72        30\n",
            "         100       0.00      0.00      0.00         1\n",
            "         101       0.00      0.00      0.00         0\n",
            "         102       0.40      0.06      0.10        35\n",
            "         103       0.80      0.67      0.73       110\n",
            "         104       0.00      0.00      0.00         0\n",
            "         105       1.00      0.07      0.12        30\n",
            "         106       0.00      0.00      0.00         0\n",
            "         107       0.00      0.00      0.00         2\n",
            "         108       0.00      0.00      0.00         0\n",
            "         109       0.00      0.00      0.00        30\n",
            "         110       0.00      0.00      0.00         0\n",
            "         111       0.00      0.00      0.00         6\n",
            "         112       0.00      0.00      0.00         0\n",
            "         113       0.00      0.00      0.00         1\n",
            "         114       0.00      0.00      0.00        30\n",
            "         115       0.00      0.00      0.00        30\n",
            "         116       0.00      0.00      0.00         1\n",
            "         117       0.00      0.00      0.00         0\n",
            "         118       0.00      0.00      0.00         2\n",
            "         119       0.00      0.00      0.00         0\n",
            "         120       0.00      0.00      0.00         3\n",
            "         121       0.00      0.00      0.00         0\n",
            "         122       0.80      0.86      0.83        28\n",
            "         123       0.00      0.00      0.00        30\n",
            "\n",
            "   micro avg       0.78      0.32      0.45      1599\n",
            "   macro avg       0.27      0.12      0.14      1599\n",
            "weighted avg       0.64      0.32      0.35      1599\n",
            " samples avg       0.32      0.32      0.32      1599\n",
            "\n"
          ]
        }
      ],
      "source": [
        "# import knn library\n",
        "from sklearn.neighbors import KNeighborsClassifier\n",
        "\n",
        "# membuat model knn\n",
        "model_knn = KNeighborsClassifier()\n",
        "model_knn.fit(train_X, train_y)\n",
        "y_preds = model_knn.predict(train_X)\n",
        "print(classification_report(train_y, y_preds))"
      ]
    },
    {
      "cell_type": "code",
      "execution_count": 55,
      "metadata": {},
      "outputs": [],
      "source": [
        "report_onehot_knn = classification_report(train_y, y_preds, output_dict=True)\n",
        "df_report_onehot_knn = pd.DataFrame(report_onehot_knn).transpose()\n",
        "df_report_onehot_knn.to_csv('report_onehot_knn.csv')"
      ]
    },
    {
      "cell_type": "markdown",
      "metadata": {},
      "source": [
        "### Menggunakan label encoding"
      ]
    },
    {
      "cell_type": "code",
      "execution_count": 56,
      "metadata": {},
      "outputs": [
        {
          "name": "stdout",
          "output_type": "stream",
          "text": [
            "              precision    recall  f1-score   support\n",
            "\n",
            "           1       0.00      0.00      0.00         1\n",
            "           2       0.86      0.86      0.86         7\n",
            "           3       0.80      0.92      0.86        13\n",
            "           5       0.42      0.73      0.54        30\n",
            "           6       0.36      0.60      0.45        30\n",
            "          10       0.00      0.00      0.00         3\n",
            "          11       0.00      0.00      0.00         1\n",
            "          12       1.00      1.00      1.00         2\n",
            "          13       0.41      0.53      0.46        30\n",
            "          15       0.70      0.70      0.70        30\n",
            "          16       0.39      0.53      0.45        30\n",
            "          19       0.65      0.37      0.47        30\n",
            "          20       0.60      1.00      0.75         9\n",
            "          21       0.25      0.63      0.36        30\n",
            "          22       1.00      0.40      0.57         5\n",
            "          23       1.00      0.75      0.86         4\n",
            "          24       0.21      0.73      0.32        30\n",
            "          25       0.00      0.00      0.00         7\n",
            "          26       0.50      0.22      0.31         9\n",
            "          29       0.53      0.43      0.47        47\n",
            "          30       0.22      0.20      0.21        30\n",
            "          33       0.74      1.00      0.85        99\n",
            "          34       0.95      0.95      0.95        21\n",
            "          35       0.45      0.80      0.58        30\n",
            "          41       0.00      0.00      0.00         1\n",
            "          44       0.04      1.00      0.07         1\n",
            "          45       0.89      0.57      0.69        30\n",
            "          46       0.50      0.21      0.30        14\n",
            "          48       0.56      0.50      0.53        30\n",
            "          49       1.00      0.12      0.22         8\n",
            "          50       1.00      0.25      0.40         4\n",
            "          51       0.93      0.76      0.84        17\n",
            "          52       0.67      0.40      0.50        30\n",
            "          53       0.35      0.50      0.41        30\n",
            "          54       1.00      0.71      0.83         7\n",
            "          55       0.55      0.37      0.44        30\n",
            "          56       0.00      0.00      0.00         1\n",
            "          58       0.00      0.00      0.00         5\n",
            "          60       0.00      0.00      0.00         6\n",
            "          61       0.35      0.23      0.28        30\n",
            "          63       0.83      0.33      0.48        30\n",
            "          64       0.53      1.00      0.69        56\n",
            "          65       0.58      0.47      0.52        30\n",
            "          66       1.00      0.50      0.67         4\n",
            "          67       0.25      0.13      0.17        30\n",
            "          68       0.88      0.47      0.61        30\n",
            "          70       0.75      0.10      0.18        30\n",
            "          71       0.00      0.00      0.00         2\n",
            "          73       0.00      0.00      0.00         1\n",
            "          74       0.00      0.00      0.00         6\n",
            "          76       0.68      0.83      0.75        30\n",
            "          77       0.69      0.60      0.64        15\n",
            "          81       0.00      0.00      0.00         1\n",
            "          82       0.39      0.23      0.29        30\n",
            "          83       0.50      0.20      0.29        30\n",
            "          87       0.00      0.00      0.00         2\n",
            "          88       0.00      0.00      0.00        30\n",
            "          89       0.25      0.33      0.29         3\n",
            "          90       0.83      0.93      0.88        27\n",
            "          91       1.00      0.40      0.57         5\n",
            "          93       0.80      0.67      0.73        30\n",
            "          95       0.00      0.00      0.00         1\n",
            "          96       0.00      0.00      0.00         1\n",
            "          97       0.81      0.83      0.82        30\n",
            "          98       0.00      0.00      0.00         4\n",
            "          99       0.53      0.80      0.64        30\n",
            "         100       0.00      0.00      0.00         1\n",
            "         102       0.50      0.26      0.34        35\n",
            "         103       0.66      0.83      0.74       110\n",
            "         105       0.50      0.30      0.37        30\n",
            "         107       0.00      0.00      0.00         2\n",
            "         109       0.67      0.07      0.12        30\n",
            "         111       0.00      0.00      0.00         6\n",
            "         113       0.00      0.00      0.00         1\n",
            "         114       0.44      0.40      0.42        30\n",
            "         115       0.30      0.10      0.15        30\n",
            "         116       0.00      0.00      0.00         1\n",
            "         118       1.00      0.50      0.67         2\n",
            "         120       0.00      0.00      0.00         3\n",
            "         122       0.68      0.96      0.79        28\n",
            "         123       0.43      0.10      0.16        30\n",
            "\n",
            "    accuracy                           0.53      1599\n",
            "   macro avg       0.45      0.39      0.38      1599\n",
            "weighted avg       0.55      0.53      0.50      1599\n",
            "\n"
          ]
        }
      ],
      "source": [
        "# membuat model knn\n",
        "model_knn = KNeighborsClassifier()\n",
        "model_knn.fit(train_X, train_y_labels)\n",
        "y_preds = model_knn.predict(train_X)\n",
        "print(classification_report(train_y_labels, y_preds))"
      ]
    },
    {
      "cell_type": "code",
      "execution_count": 57,
      "metadata": {},
      "outputs": [],
      "source": [
        "report_label_knn = classification_report(train_y_labels, y_preds, output_dict=True)\n",
        "df_report_label_knn = pd.DataFrame(report_label_knn).transpose()\n",
        "df_report_label_knn.to_csv('report_label_knn.csv')"
      ]
    },
    {
      "cell_type": "markdown",
      "metadata": {},
      "source": [
        "## Support Vector Machine"
      ]
    },
    {
      "cell_type": "markdown",
      "metadata": {},
      "source": [
        "### Menggunakan label encoding"
      ]
    },
    {
      "cell_type": "code",
      "execution_count": 58,
      "metadata": {},
      "outputs": [
        {
          "name": "stdout",
          "output_type": "stream",
          "text": [
            "              precision    recall  f1-score   support\n",
            "\n",
            "           1       0.00      0.00      0.00         1\n",
            "           2       1.00      0.71      0.83         7\n",
            "           3       0.92      0.92      0.92        13\n",
            "           5       0.80      0.40      0.53        30\n",
            "           6       0.56      0.80      0.66        30\n",
            "          10       1.00      0.33      0.50         3\n",
            "          11       0.00      0.00      0.00         1\n",
            "          12       1.00      1.00      1.00         2\n",
            "          13       0.92      0.73      0.81        30\n",
            "          15       0.91      1.00      0.95        30\n",
            "          16       0.76      0.83      0.79        30\n",
            "          19       0.69      0.73      0.71        30\n",
            "          20       0.82      1.00      0.90         9\n",
            "          21       0.77      0.67      0.71        30\n",
            "          22       1.00      0.60      0.75         5\n",
            "          23       1.00      1.00      1.00         4\n",
            "          24       0.28      0.60      0.38        30\n",
            "          25       0.00      0.00      0.00         7\n",
            "          26       1.00      0.56      0.71         9\n",
            "          29       0.71      0.77      0.73        47\n",
            "          30       0.88      0.47      0.61        30\n",
            "          33       0.96      1.00      0.98        99\n",
            "          34       0.91      1.00      0.95        21\n",
            "          35       0.81      0.70      0.75        30\n",
            "          41       0.00      0.00      0.00         1\n",
            "          44       0.00      0.00      0.00         1\n",
            "          45       1.00      0.97      0.98        30\n",
            "          46       0.89      0.57      0.70        14\n",
            "          48       0.47      0.87      0.61        30\n",
            "          49       1.00      0.50      0.67         8\n",
            "          50       1.00      0.25      0.40         4\n",
            "          51       0.94      0.94      0.94        17\n",
            "          52       0.68      1.00      0.81        30\n",
            "          53       0.69      0.90      0.78        30\n",
            "          54       1.00      1.00      1.00         7\n",
            "          55       0.77      0.77      0.77        30\n",
            "          56       0.00      0.00      0.00         1\n",
            "          58       0.00      0.00      0.00         5\n",
            "          60       1.00      0.50      0.67         6\n",
            "          61       0.62      0.67      0.65        30\n",
            "          63       0.82      0.60      0.69        30\n",
            "          64       0.80      1.00      0.89        56\n",
            "          65       0.96      0.77      0.85        30\n",
            "          66       0.00      0.00      0.00         4\n",
            "          67       0.72      0.60      0.65        30\n",
            "          68       0.93      0.90      0.92        30\n",
            "          70       0.95      0.70      0.81        30\n",
            "          71       0.00      0.00      0.00         2\n",
            "          73       0.00      0.00      0.00         1\n",
            "          74       1.00      0.67      0.80         6\n",
            "          76       0.77      1.00      0.87        30\n",
            "          77       1.00      0.67      0.80        15\n",
            "          81       0.00      0.00      0.00         1\n",
            "          82       0.77      0.77      0.77        30\n",
            "          83       0.61      0.67      0.63        30\n",
            "          87       0.00      0.00      0.00         2\n",
            "          88       0.87      0.87      0.87        30\n",
            "          89       0.00      0.00      0.00         3\n",
            "          90       0.96      0.96      0.96        27\n",
            "          91       1.00      0.20      0.33         5\n",
            "          93       0.83      1.00      0.91        30\n",
            "          95       0.00      0.00      0.00         1\n",
            "          96       0.00      0.00      0.00         1\n",
            "          97       0.90      0.93      0.92        30\n",
            "          98       1.00      0.50      0.67         4\n",
            "          99       0.78      0.93      0.85        30\n",
            "         100       0.00      0.00      0.00         1\n",
            "         102       0.71      0.97      0.82        35\n",
            "         103       0.73      0.96      0.83       110\n",
            "         105       0.91      0.67      0.77        30\n",
            "         107       0.00      0.00      0.00         2\n",
            "         109       0.96      0.80      0.87        30\n",
            "         111       1.00      0.17      0.29         6\n",
            "         113       0.00      0.00      0.00         1\n",
            "         114       0.63      0.40      0.49        30\n",
            "         115       0.57      0.40      0.47        30\n",
            "         116       0.00      0.00      0.00         1\n",
            "         118       0.00      0.00      0.00         2\n",
            "         120       0.00      0.00      0.00         3\n",
            "         122       0.96      0.96      0.96        28\n",
            "         123       1.00      0.47      0.64        30\n",
            "\n",
            "    accuracy                           0.78      1599\n",
            "   macro avg       0.63      0.55      0.56      1599\n",
            "weighted avg       0.79      0.78      0.76      1599\n",
            "\n"
          ]
        }
      ],
      "source": [
        "# import svm \n",
        "from sklearn.svm import SVC\n",
        "\n",
        "# membuat model svm\n",
        "model_svm = SVC()\n",
        "\n",
        "model_svm.fit(train_X, np.argmax(train_y, axis=1))\n",
        "y_preds = model_svm.predict(train_X)\n",
        "print(classification_report(np.argmax(train_y, axis=1), y_preds))"
      ]
    },
    {
      "cell_type": "code",
      "execution_count": 59,
      "metadata": {},
      "outputs": [],
      "source": [
        "report_onehot_svm = classification_report(np.argmax(train_y, axis=1), y_preds, output_dict=True)\n",
        "df_report_onehot_svm = pd.DataFrame(report_onehot_svm).transpose()\n",
        "df_report_onehot_svm.to_csv('report_onehot_svm.csv')"
      ]
    },
    {
      "cell_type": "markdown",
      "metadata": {
        "id": "ljRI1YOcx6DM"
      },
      "source": [
        "# Training model DL"
      ]
    },
    {
      "cell_type": "code",
      "execution_count": 11,
      "metadata": {
        "id": "tXnzaBS4imiR"
      },
      "outputs": [],
      "source": [
        "# cb = tf.keras.callbacks.EarlyStopping(\n",
        "#     monitor='accuracy',\n",
        "#     patience=3,\n",
        "#     verbose=1,\n",
        "#     mode='auto',\n",
        "#     restore_best_weights=True\n",
        "# )"
      ]
    },
    {
      "cell_type": "code",
      "execution_count": 12,
      "metadata": {
        "id": "bX1eWJE9syIc"
      },
      "outputs": [],
      "source": [
        "import tensorflow as tf\n",
        "from tensorflow.keras.datasets import imdb\n",
        "from tensorflow.keras.models import Sequential\n",
        "from tensorflow.keras.layers import Dense\n",
        "from tensorflow.keras.layers import LSTM\n",
        "from tensorflow.keras.layers import Embedding\n",
        "from tensorflow.keras.preprocessing import sequence\n",
        "# fix random seed for reproducibility\n",
        "# tf.random.set_seed(7)"
      ]
    },
    {
      "cell_type": "code",
      "execution_count": 14,
      "metadata": {},
      "outputs": [],
      "source": [
        "from sklearn.model_selection import train_test_split\n",
        "\n",
        "X = list(training[:, 0])\n",
        "Y = list(training[:, 1])\n",
        "\n",
        "x_train,x_test, y_train, y_test = train_test_split(X,Y,test_size=0.2)\n",
        "x_train = X\n",
        "y_train = Y "
      ]
    },
    {
      "cell_type": "code",
      "execution_count": 18,
      "metadata": {},
      "outputs": [],
      "source": [
        "from sklearn.model_selection import StratifiedKFold\n",
        "from sklearn.model_selection import KFold\n",
        "\n",
        "# make kfold\n",
        "kfold = KFold(n_splits=10, shuffle=True, random_state=7)\n",
        "skf = StratifiedKFold(n_splits=10, shuffle=True, random_state=7)"
      ]
    },
    {
      "cell_type": "code",
      "execution_count": 20,
      "metadata": {
        "colab": {
          "base_uri": "https://localhost:8080/"
        },
        "id": "sw20-oFCp5cn",
        "outputId": "8e6b5f4e-ce82-4204-d32d-448a2e67e069"
      },
      "outputs": [
        {
          "name": "stdout",
          "output_type": "stream",
          "text": [
            "Model: \"sequential_1\"\n",
            "_________________________________________________________________\n",
            "Layer (type)                 Output Shape              Param #   \n",
            "=================================================================\n",
            "dense_3 (Dense)              (None, 128)               75520     \n",
            "_________________________________________________________________\n",
            "dense_4 (Dense)              (None, 128)               16512     \n",
            "_________________________________________________________________\n",
            "dropout_1 (Dropout)          (None, 128)               0         \n",
            "_________________________________________________________________\n",
            "dense_5 (Dense)              (None, 124)               15996     \n",
            "=================================================================\n",
            "Total params: 108,028\n",
            "Trainable params: 108,028\n",
            "Non-trainable params: 0\n",
            "_________________________________________________________________\n",
            "None\n",
            "Epoch 1/150\n",
            "50/50 [==============================] - 2s 37ms/step - loss: 3.4750 - accuracy: 0.2226 - val_loss: 2.1818 - val_accuracy: 0.4313\n",
            "Epoch 2/150\n",
            "50/50 [==============================] - 0s 6ms/step - loss: 1.9974 - accuracy: 0.4759 - val_loss: 1.3162 - val_accuracy: 0.6031\n",
            "Epoch 3/150\n",
            "50/50 [==============================] - 0s 6ms/step - loss: 1.3370 - accuracy: 0.6148 - val_loss: 0.8566 - val_accuracy: 0.7437\n",
            "Epoch 4/150\n",
            "50/50 [==============================] - 0s 6ms/step - loss: 0.9869 - accuracy: 0.6979 - val_loss: 0.6380 - val_accuracy: 0.8188\n",
            "Epoch 5/150\n",
            "50/50 [==============================] - 0s 5ms/step - loss: 0.7338 - accuracy: 0.7792 - val_loss: 0.5200 - val_accuracy: 0.8406\n",
            "Epoch 6/150\n",
            "50/50 [==============================] - 0s 6ms/step - loss: 0.5977 - accuracy: 0.8036 - val_loss: 0.4263 - val_accuracy: 0.8438\n",
            "Epoch 7/150\n",
            "50/50 [==============================] - 0s 6ms/step - loss: 0.5312 - accuracy: 0.8405 - val_loss: 0.3737 - val_accuracy: 0.8469\n",
            "Epoch 8/150\n",
            "50/50 [==============================] - 0s 6ms/step - loss: 0.4557 - accuracy: 0.8424 - val_loss: 0.3699 - val_accuracy: 0.8594\n",
            "Epoch 9/150\n",
            "50/50 [==============================] - 0s 6ms/step - loss: 0.3870 - accuracy: 0.8643 - val_loss: 0.3211 - val_accuracy: 0.8719\n",
            "Epoch 10/150\n",
            "50/50 [==============================] - 0s 6ms/step - loss: 0.3896 - accuracy: 0.8587 - val_loss: 0.3416 - val_accuracy: 0.8687\n",
            "Epoch 11/150\n",
            "50/50 [==============================] - 0s 6ms/step - loss: 0.3507 - accuracy: 0.8743 - val_loss: 0.2770 - val_accuracy: 0.9031\n",
            "Epoch 12/150\n",
            "50/50 [==============================] - 0s 6ms/step - loss: 0.3373 - accuracy: 0.8699 - val_loss: 0.2717 - val_accuracy: 0.8844\n",
            "Epoch 13/150\n",
            "50/50 [==============================] - 0s 5ms/step - loss: 0.3262 - accuracy: 0.8668 - val_loss: 0.2621 - val_accuracy: 0.8906\n",
            "Epoch 14/150\n",
            "50/50 [==============================] - 0s 6ms/step - loss: 0.3176 - accuracy: 0.8655 - val_loss: 0.2727 - val_accuracy: 0.8625\n",
            "Epoch 15/150\n",
            "50/50 [==============================] - 0s 5ms/step - loss: 0.3170 - accuracy: 0.8793 - val_loss: 0.2494 - val_accuracy: 0.8719\n",
            "Epoch 16/150\n",
            "50/50 [==============================] - 0s 6ms/step - loss: 0.3098 - accuracy: 0.8712 - val_loss: 0.2310 - val_accuracy: 0.8875\n",
            "Epoch 17/150\n",
            "50/50 [==============================] - 0s 6ms/step - loss: 0.2805 - accuracy: 0.8806 - val_loss: 0.2617 - val_accuracy: 0.8969\n",
            "Epoch 18/150\n",
            "50/50 [==============================] - 0s 6ms/step - loss: 0.2841 - accuracy: 0.8737 - val_loss: 0.2529 - val_accuracy: 0.8844\n",
            "Epoch 19/150\n",
            "50/50 [==============================] - 0s 5ms/step - loss: 0.2775 - accuracy: 0.8730 - val_loss: 0.2496 - val_accuracy: 0.8938\n",
            "Epoch 20/150\n",
            "50/50 [==============================] - 0s 5ms/step - loss: 0.2740 - accuracy: 0.8768 - val_loss: 0.2377 - val_accuracy: 0.8781\n",
            "Epoch 21/150\n",
            "50/50 [==============================] - 0s 5ms/step - loss: 0.2560 - accuracy: 0.8787 - val_loss: 0.2247 - val_accuracy: 0.8969\n",
            "Epoch 22/150\n",
            "50/50 [==============================] - 0s 5ms/step - loss: 0.2482 - accuracy: 0.8874 - val_loss: 0.2170 - val_accuracy: 0.9094\n",
            "Epoch 23/150\n",
            "50/50 [==============================] - 0s 6ms/step - loss: 0.2658 - accuracy: 0.8743 - val_loss: 0.2315 - val_accuracy: 0.8938\n",
            "Epoch 24/150\n",
            "50/50 [==============================] - 0s 6ms/step - loss: 0.2454 - accuracy: 0.8874 - val_loss: 0.2342 - val_accuracy: 0.9094\n",
            "Epoch 25/150\n",
            "50/50 [==============================] - 0s 6ms/step - loss: 0.2403 - accuracy: 0.8962 - val_loss: 0.2476 - val_accuracy: 0.9031\n",
            "Epoch 26/150\n",
            "50/50 [==============================] - 0s 5ms/step - loss: 0.2439 - accuracy: 0.8874 - val_loss: 0.2044 - val_accuracy: 0.8938\n",
            "Epoch 27/150\n",
            "50/50 [==============================] - 0s 5ms/step - loss: 0.2480 - accuracy: 0.8824 - val_loss: 0.2390 - val_accuracy: 0.8750\n",
            "Epoch 28/150\n",
            "50/50 [==============================] - 0s 6ms/step - loss: 0.3252 - accuracy: 0.8662 - val_loss: 0.3641 - val_accuracy: 0.8781\n",
            "Epoch 29/150\n",
            "50/50 [==============================] - 0s 5ms/step - loss: 0.3953 - accuracy: 0.8468 - val_loss: 0.3776 - val_accuracy: 0.8594\n",
            "Epoch 30/150\n",
            "50/50 [==============================] - 0s 6ms/step - loss: 0.5242 - accuracy: 0.8243 - val_loss: 0.4190 - val_accuracy: 0.8594\n",
            "Epoch 31/150\n",
            "50/50 [==============================] - 0s 6ms/step - loss: 0.5721 - accuracy: 0.8099 - val_loss: 0.3769 - val_accuracy: 0.8625\n",
            "Epoch 32/150\n",
            "50/50 [==============================] - 0s 6ms/step - loss: 0.5419 - accuracy: 0.8199 - val_loss: 0.4262 - val_accuracy: 0.8500\n",
            "Epoch 33/150\n",
            "50/50 [==============================] - 0s 5ms/step - loss: 0.4649 - accuracy: 0.8330 - val_loss: 0.3281 - val_accuracy: 0.8719\n",
            "Epoch 34/150\n",
            "50/50 [==============================] - 0s 6ms/step - loss: 0.3960 - accuracy: 0.8480 - val_loss: 0.3056 - val_accuracy: 0.8719\n",
            "Epoch 35/150\n",
            "50/50 [==============================] - 0s 5ms/step - loss: 0.3489 - accuracy: 0.8605 - val_loss: 0.2258 - val_accuracy: 0.8844\n",
            "Epoch 36/150\n",
            "50/50 [==============================] - 0s 6ms/step - loss: 0.3210 - accuracy: 0.8699 - val_loss: 0.2213 - val_accuracy: 0.8875\n",
            "Epoch 37/150\n",
            "50/50 [==============================] - 0s 5ms/step - loss: 0.2780 - accuracy: 0.8787 - val_loss: 0.2223 - val_accuracy: 0.8875\n",
            "Epoch 38/150\n",
            "50/50 [==============================] - 0s 6ms/step - loss: 0.2483 - accuracy: 0.8868 - val_loss: 0.2135 - val_accuracy: 0.8844\n",
            "Epoch 39/150\n",
            "50/50 [==============================] - 0s 5ms/step - loss: 0.2453 - accuracy: 0.8862 - val_loss: 0.2048 - val_accuracy: 0.8969\n",
            "Epoch 40/150\n",
            "50/50 [==============================] - 0s 6ms/step - loss: 0.2272 - accuracy: 0.8924 - val_loss: 0.1877 - val_accuracy: 0.8875\n",
            "Epoch 41/150\n",
            "50/50 [==============================] - 0s 5ms/step - loss: 0.2278 - accuracy: 0.8837 - val_loss: 0.1872 - val_accuracy: 0.9062\n",
            "Epoch 42/150\n",
            "50/50 [==============================] - 0s 5ms/step - loss: 0.2162 - accuracy: 0.8780 - val_loss: 0.1875 - val_accuracy: 0.8844\n",
            "Epoch 43/150\n",
            "50/50 [==============================] - 0s 6ms/step - loss: 0.2173 - accuracy: 0.8843 - val_loss: 0.2115 - val_accuracy: 0.8875\n",
            "Epoch 44/150\n",
            "50/50 [==============================] - 0s 6ms/step - loss: 0.2151 - accuracy: 0.8912 - val_loss: 0.1941 - val_accuracy: 0.9000\n",
            "Epoch 45/150\n",
            "50/50 [==============================] - 0s 6ms/step - loss: 0.2130 - accuracy: 0.8899 - val_loss: 0.2136 - val_accuracy: 0.8813\n",
            "Epoch 46/150\n",
            "50/50 [==============================] - 0s 6ms/step - loss: 0.2147 - accuracy: 0.8899 - val_loss: 0.1958 - val_accuracy: 0.8969\n",
            "Epoch 47/150\n",
            "50/50 [==============================] - 0s 6ms/step - loss: 0.2186 - accuracy: 0.8937 - val_loss: 0.2018 - val_accuracy: 0.8969\n",
            "Epoch 48/150\n",
            "50/50 [==============================] - 0s 5ms/step - loss: 0.2076 - accuracy: 0.8899 - val_loss: 0.1868 - val_accuracy: 0.9000\n",
            "Epoch 49/150\n",
            "50/50 [==============================] - 0s 5ms/step - loss: 0.2006 - accuracy: 0.8881 - val_loss: 0.1798 - val_accuracy: 0.9062\n",
            "Epoch 50/150\n",
            "50/50 [==============================] - 0s 5ms/step - loss: 0.1985 - accuracy: 0.8968 - val_loss: 0.1844 - val_accuracy: 0.9031\n",
            "Epoch 51/150\n",
            "50/50 [==============================] - 0s 5ms/step - loss: 0.2036 - accuracy: 0.8874 - val_loss: 0.1847 - val_accuracy: 0.9031\n",
            "Epoch 52/150\n",
            "50/50 [==============================] - 0s 6ms/step - loss: 0.2095 - accuracy: 0.8849 - val_loss: 0.1881 - val_accuracy: 0.8938\n",
            "Epoch 53/150\n",
            "50/50 [==============================] - 0s 6ms/step - loss: 0.1942 - accuracy: 0.8881 - val_loss: 0.1878 - val_accuracy: 0.8875\n",
            "Epoch 54/150\n",
            "50/50 [==============================] - 0s 5ms/step - loss: 0.2005 - accuracy: 0.8899 - val_loss: 0.1931 - val_accuracy: 0.8969\n",
            "Epoch 55/150\n",
            "50/50 [==============================] - 0s 6ms/step - loss: 0.2057 - accuracy: 0.8874 - val_loss: 0.2024 - val_accuracy: 0.8781\n",
            "Epoch 56/150\n",
            "50/50 [==============================] - 0s 6ms/step - loss: 0.2050 - accuracy: 0.8906 - val_loss: 0.2219 - val_accuracy: 0.8906\n",
            "Epoch 57/150\n",
            "50/50 [==============================] - 0s 5ms/step - loss: 0.2263 - accuracy: 0.8774 - val_loss: 0.2043 - val_accuracy: 0.8781\n",
            "Epoch 58/150\n",
            "50/50 [==============================] - 0s 6ms/step - loss: 0.2076 - accuracy: 0.8874 - val_loss: 0.2039 - val_accuracy: 0.8813\n",
            "Epoch 59/150\n",
            "50/50 [==============================] - 0s 6ms/step - loss: 0.2005 - accuracy: 0.8893 - val_loss: 0.2112 - val_accuracy: 0.8719\n",
            "Epoch 60/150\n",
            "50/50 [==============================] - 0s 5ms/step - loss: 0.2133 - accuracy: 0.8874 - val_loss: 0.2023 - val_accuracy: 0.8875\n",
            "Epoch 61/150\n",
            "50/50 [==============================] - 0s 6ms/step - loss: 0.1965 - accuracy: 0.8937 - val_loss: 0.2097 - val_accuracy: 0.8813\n",
            "Epoch 62/150\n",
            "50/50 [==============================] - 0s 6ms/step - loss: 0.2075 - accuracy: 0.8862 - val_loss: 0.2034 - val_accuracy: 0.8781\n",
            "Epoch 63/150\n",
            "50/50 [==============================] - 0s 5ms/step - loss: 0.2169 - accuracy: 0.8831 - val_loss: 0.1872 - val_accuracy: 0.9062\n",
            "Epoch 64/150\n",
            "50/50 [==============================] - 0s 6ms/step - loss: 0.2068 - accuracy: 0.8887 - val_loss: 0.2148 - val_accuracy: 0.8750\n",
            "Epoch 65/150\n",
            "50/50 [==============================] - 0s 5ms/step - loss: 0.2118 - accuracy: 0.8881 - val_loss: 0.1895 - val_accuracy: 0.8969\n",
            "Epoch 66/150\n",
            "50/50 [==============================] - 0s 5ms/step - loss: 0.2021 - accuracy: 0.8937 - val_loss: 0.2054 - val_accuracy: 0.8750\n",
            "Epoch 67/150\n",
            "50/50 [==============================] - 0s 6ms/step - loss: 0.2211 - accuracy: 0.8862 - val_loss: 0.2457 - val_accuracy: 0.8875\n",
            "Epoch 68/150\n",
            "50/50 [==============================] - 0s 5ms/step - loss: 0.2424 - accuracy: 0.8831 - val_loss: 0.2239 - val_accuracy: 0.8844\n",
            "Epoch 69/150\n",
            "50/50 [==============================] - 0s 6ms/step - loss: 0.2681 - accuracy: 0.8743 - val_loss: 0.2144 - val_accuracy: 0.8813\n",
            "Epoch 70/150\n",
            "50/50 [==============================] - 0s 6ms/step - loss: 0.2977 - accuracy: 0.8799 - val_loss: 0.2964 - val_accuracy: 0.8719\n",
            "Epoch 71/150\n",
            "50/50 [==============================] - 0s 6ms/step - loss: 0.4499 - accuracy: 0.8505 - val_loss: 0.4423 - val_accuracy: 0.8687\n",
            "Epoch 72/150\n",
            "50/50 [==============================] - 0s 6ms/step - loss: 0.5367 - accuracy: 0.8380 - val_loss: 0.3808 - val_accuracy: 0.8844\n",
            "Epoch 73/150\n",
            "50/50 [==============================] - 0s 5ms/step - loss: 0.6401 - accuracy: 0.8280 - val_loss: 0.4211 - val_accuracy: 0.8750\n",
            "Epoch 74/150\n",
            "50/50 [==============================] - 0s 6ms/step - loss: 0.6279 - accuracy: 0.8211 - val_loss: 0.3826 - val_accuracy: 0.8344\n",
            "Epoch 75/150\n",
            "50/50 [==============================] - 0s 5ms/step - loss: 0.5247 - accuracy: 0.8343 - val_loss: 0.3707 - val_accuracy: 0.8781\n",
            "Epoch 76/150\n",
            "50/50 [==============================] - 0s 6ms/step - loss: 0.4846 - accuracy: 0.8386 - val_loss: 0.2564 - val_accuracy: 0.8969\n",
            "Epoch 77/150\n",
            "50/50 [==============================] - 0s 6ms/step - loss: 0.3986 - accuracy: 0.8512 - val_loss: 0.2417 - val_accuracy: 0.9031\n",
            "Epoch 78/150\n",
            "50/50 [==============================] - 0s 6ms/step - loss: 0.3594 - accuracy: 0.8730 - val_loss: 0.2696 - val_accuracy: 0.8750\n",
            "Epoch 79/150\n",
            "50/50 [==============================] - 0s 6ms/step - loss: 0.3119 - accuracy: 0.8812 - val_loss: 0.2315 - val_accuracy: 0.8781\n",
            "Epoch 80/150\n",
            "50/50 [==============================] - 0s 6ms/step - loss: 0.3188 - accuracy: 0.8824 - val_loss: 0.2364 - val_accuracy: 0.8719\n",
            "Epoch 81/150\n",
            "50/50 [==============================] - 0s 6ms/step - loss: 0.2694 - accuracy: 0.8705 - val_loss: 0.1919 - val_accuracy: 0.8906\n",
            "Epoch 82/150\n",
            "50/50 [==============================] - 0s 6ms/step - loss: 0.2745 - accuracy: 0.8837 - val_loss: 0.1942 - val_accuracy: 0.8938\n",
            "Epoch 83/150\n",
            "50/50 [==============================] - 0s 6ms/step - loss: 0.2373 - accuracy: 0.8831 - val_loss: 0.2011 - val_accuracy: 0.8875\n",
            "Epoch 84/150\n",
            "50/50 [==============================] - 0s 5ms/step - loss: 0.2211 - accuracy: 0.8849 - val_loss: 0.2123 - val_accuracy: 0.8687\n",
            "Epoch 85/150\n",
            "50/50 [==============================] - 0s 6ms/step - loss: 0.2147 - accuracy: 0.8831 - val_loss: 0.1975 - val_accuracy: 0.8844\n",
            "Epoch 86/150\n",
            "50/50 [==============================] - 0s 5ms/step - loss: 0.2260 - accuracy: 0.8812 - val_loss: 0.1947 - val_accuracy: 0.8906\n",
            "Epoch 87/150\n",
            "50/50 [==============================] - 0s 6ms/step - loss: 0.2190 - accuracy: 0.8887 - val_loss: 0.2164 - val_accuracy: 0.8687\n",
            "Epoch 88/150\n",
            "50/50 [==============================] - 0s 6ms/step - loss: 0.2020 - accuracy: 0.8818 - val_loss: 0.1960 - val_accuracy: 0.8875\n",
            "Epoch 89/150\n",
            "50/50 [==============================] - 0s 6ms/step - loss: 0.2242 - accuracy: 0.8856 - val_loss: 0.1974 - val_accuracy: 0.8906\n",
            "Epoch 90/150\n",
            "50/50 [==============================] - 0s 5ms/step - loss: 0.2110 - accuracy: 0.8812 - val_loss: 0.1770 - val_accuracy: 0.9062\n",
            "Epoch 91/150\n",
            "50/50 [==============================] - 0s 5ms/step - loss: 0.2153 - accuracy: 0.8818 - val_loss: 0.1827 - val_accuracy: 0.8906\n",
            "Epoch 92/150\n",
            "50/50 [==============================] - 0s 6ms/step - loss: 0.2010 - accuracy: 0.8881 - val_loss: 0.2029 - val_accuracy: 0.8844\n",
            "Epoch 93/150\n",
            "50/50 [==============================] - 0s 6ms/step - loss: 0.2096 - accuracy: 0.8906 - val_loss: 0.2084 - val_accuracy: 0.8938\n",
            "Epoch 94/150\n",
            "50/50 [==============================] - 0s 6ms/step - loss: 0.2231 - accuracy: 0.8768 - val_loss: 0.1869 - val_accuracy: 0.9000\n",
            "Epoch 95/150\n",
            "50/50 [==============================] - 0s 5ms/step - loss: 0.2054 - accuracy: 0.8874 - val_loss: 0.2108 - val_accuracy: 0.8938\n",
            "Epoch 96/150\n",
            "50/50 [==============================] - 0s 6ms/step - loss: 0.2003 - accuracy: 0.8931 - val_loss: 0.2007 - val_accuracy: 0.8750\n",
            "Epoch 97/150\n",
            "50/50 [==============================] - 0s 5ms/step - loss: 0.1996 - accuracy: 0.8887 - val_loss: 0.1933 - val_accuracy: 0.8875\n",
            "Epoch 98/150\n",
            "50/50 [==============================] - 0s 5ms/step - loss: 0.1879 - accuracy: 0.8956 - val_loss: 0.1837 - val_accuracy: 0.8969\n",
            "Epoch 99/150\n",
            "50/50 [==============================] - 0s 6ms/step - loss: 0.2138 - accuracy: 0.8787 - val_loss: 0.1885 - val_accuracy: 0.8875\n",
            "Epoch 100/150\n",
            "50/50 [==============================] - 0s 5ms/step - loss: 0.2002 - accuracy: 0.8881 - val_loss: 0.1999 - val_accuracy: 0.8969\n",
            "Epoch 101/150\n",
            "50/50 [==============================] - 0s 6ms/step - loss: 0.2186 - accuracy: 0.8862 - val_loss: 0.1941 - val_accuracy: 0.8875\n",
            "Epoch 102/150\n",
            "50/50 [==============================] - 0s 6ms/step - loss: 0.2095 - accuracy: 0.8831 - val_loss: 0.1946 - val_accuracy: 0.8750\n",
            "Epoch 103/150\n",
            "50/50 [==============================] - 0s 6ms/step - loss: 0.1950 - accuracy: 0.8918 - val_loss: 0.1855 - val_accuracy: 0.8906\n",
            "Epoch 104/150\n",
            "50/50 [==============================] - 0s 5ms/step - loss: 0.2129 - accuracy: 0.8837 - val_loss: 0.1838 - val_accuracy: 0.9031\n",
            "Epoch 105/150\n",
            "50/50 [==============================] - 0s 6ms/step - loss: 0.1971 - accuracy: 0.8949 - val_loss: 0.1965 - val_accuracy: 0.8781\n",
            "Epoch 106/150\n",
            "50/50 [==============================] - 0s 6ms/step - loss: 0.2219 - accuracy: 0.8837 - val_loss: 0.1843 - val_accuracy: 0.9031\n",
            "Epoch 107/150\n",
            "50/50 [==============================] - 0s 6ms/step - loss: 0.2074 - accuracy: 0.8862 - val_loss: 0.1890 - val_accuracy: 0.8906\n",
            "Epoch 108/150\n",
            "50/50 [==============================] - 0s 5ms/step - loss: 0.2051 - accuracy: 0.8893 - val_loss: 0.1982 - val_accuracy: 0.8938\n",
            "Epoch 109/150\n",
            "50/50 [==============================] - 0s 5ms/step - loss: 0.2254 - accuracy: 0.8949 - val_loss: 0.1983 - val_accuracy: 0.8844\n",
            "Epoch 110/150\n",
            "50/50 [==============================] - 0s 5ms/step - loss: 0.2123 - accuracy: 0.8824 - val_loss: 0.1954 - val_accuracy: 0.8906\n",
            "Epoch 111/150\n",
            "50/50 [==============================] - 0s 5ms/step - loss: 0.2070 - accuracy: 0.8868 - val_loss: 0.1967 - val_accuracy: 0.8781\n",
            "Epoch 112/150\n",
            "50/50 [==============================] - 0s 5ms/step - loss: 0.1942 - accuracy: 0.8924 - val_loss: 0.1972 - val_accuracy: 0.8844\n",
            "Epoch 113/150\n",
            "50/50 [==============================] - 0s 6ms/step - loss: 0.2293 - accuracy: 0.8799 - val_loss: 0.2307 - val_accuracy: 0.8781\n",
            "Epoch 114/150\n",
            "50/50 [==============================] - 0s 5ms/step - loss: 0.2140 - accuracy: 0.8806 - val_loss: 0.1920 - val_accuracy: 0.8875\n",
            "Epoch 115/150\n",
            "50/50 [==============================] - 0s 6ms/step - loss: 0.2042 - accuracy: 0.8874 - val_loss: 0.2056 - val_accuracy: 0.8938\n",
            "Epoch 116/150\n",
            "50/50 [==============================] - 0s 5ms/step - loss: 0.2025 - accuracy: 0.8818 - val_loss: 0.2037 - val_accuracy: 0.8875\n",
            "Epoch 117/150\n",
            "50/50 [==============================] - 0s 6ms/step - loss: 0.2539 - accuracy: 0.8780 - val_loss: 0.1950 - val_accuracy: 0.8969\n",
            "Epoch 118/150\n",
            "50/50 [==============================] - 0s 5ms/step - loss: 0.2745 - accuracy: 0.8755 - val_loss: 0.2180 - val_accuracy: 0.8875\n",
            "Epoch 119/150\n",
            "50/50 [==============================] - 0s 5ms/step - loss: 0.2789 - accuracy: 0.8768 - val_loss: 0.2324 - val_accuracy: 0.9062\n",
            "Epoch 120/150\n",
            "50/50 [==============================] - 0s 6ms/step - loss: 0.2878 - accuracy: 0.8799 - val_loss: 0.2313 - val_accuracy: 0.8813\n",
            "Epoch 121/150\n",
            "50/50 [==============================] - 0s 6ms/step - loss: 0.3195 - accuracy: 0.8730 - val_loss: 0.3193 - val_accuracy: 0.9000\n",
            "Epoch 122/150\n",
            "50/50 [==============================] - 0s 5ms/step - loss: 0.3668 - accuracy: 0.8693 - val_loss: 0.2392 - val_accuracy: 0.8844\n",
            "Epoch 123/150\n",
            "50/50 [==============================] - 0s 5ms/step - loss: 0.2953 - accuracy: 0.8724 - val_loss: 0.2310 - val_accuracy: 0.8969\n",
            "Epoch 124/150\n",
            "50/50 [==============================] - 0s 5ms/step - loss: 0.3460 - accuracy: 0.8818 - val_loss: 0.2050 - val_accuracy: 0.9031\n",
            "Epoch 125/150\n",
            "50/50 [==============================] - 0s 6ms/step - loss: 0.2604 - accuracy: 0.8787 - val_loss: 0.2072 - val_accuracy: 0.8906\n",
            "Epoch 126/150\n",
            "50/50 [==============================] - 0s 5ms/step - loss: 0.2750 - accuracy: 0.8837 - val_loss: 0.1895 - val_accuracy: 0.8906\n",
            "Epoch 127/150\n",
            "50/50 [==============================] - 0s 6ms/step - loss: 0.2595 - accuracy: 0.8730 - val_loss: 0.1994 - val_accuracy: 0.9031\n",
            "Epoch 128/150\n",
            "50/50 [==============================] - 0s 6ms/step - loss: 0.2779 - accuracy: 0.8699 - val_loss: 0.2484 - val_accuracy: 0.8719\n",
            "Epoch 129/150\n",
            "50/50 [==============================] - 0s 5ms/step - loss: 0.2741 - accuracy: 0.8712 - val_loss: 0.2284 - val_accuracy: 0.8875\n",
            "Epoch 130/150\n",
            "50/50 [==============================] - 0s 5ms/step - loss: 0.2451 - accuracy: 0.8730 - val_loss: 0.2417 - val_accuracy: 0.8813\n",
            "Epoch 131/150\n",
            "50/50 [==============================] - 0s 6ms/step - loss: 0.2537 - accuracy: 0.8774 - val_loss: 0.2164 - val_accuracy: 0.8938\n",
            "Epoch 132/150\n",
            "50/50 [==============================] - 0s 6ms/step - loss: 0.2693 - accuracy: 0.8755 - val_loss: 0.2339 - val_accuracy: 0.9000\n",
            "Epoch 133/150\n",
            "50/50 [==============================] - 0s 5ms/step - loss: 0.2884 - accuracy: 0.8812 - val_loss: 0.2247 - val_accuracy: 0.8813\n",
            "Epoch 134/150\n",
            "50/50 [==============================] - 0s 5ms/step - loss: 0.2730 - accuracy: 0.8787 - val_loss: 0.2135 - val_accuracy: 0.8906\n",
            "Epoch 135/150\n",
            "50/50 [==============================] - 0s 5ms/step - loss: 0.3208 - accuracy: 0.8699 - val_loss: 0.2221 - val_accuracy: 0.8938\n",
            "Epoch 136/150\n",
            "50/50 [==============================] - 0s 5ms/step - loss: 0.2925 - accuracy: 0.8793 - val_loss: 0.2027 - val_accuracy: 0.8906\n",
            "Epoch 137/150\n",
            "50/50 [==============================] - 0s 5ms/step - loss: 0.2382 - accuracy: 0.8818 - val_loss: 0.2088 - val_accuracy: 0.8750\n",
            "Epoch 138/150\n",
            "50/50 [==============================] - 0s 5ms/step - loss: 0.2835 - accuracy: 0.8749 - val_loss: 0.2051 - val_accuracy: 0.9062\n",
            "Epoch 139/150\n",
            "50/50 [==============================] - 0s 5ms/step - loss: 0.2272 - accuracy: 0.8843 - val_loss: 0.1981 - val_accuracy: 0.8750\n",
            "Epoch 140/150\n",
            "50/50 [==============================] - 0s 6ms/step - loss: 0.2290 - accuracy: 0.8856 - val_loss: 0.1961 - val_accuracy: 0.8844\n",
            "Epoch 141/150\n",
            "50/50 [==============================] - 0s 5ms/step - loss: 0.2205 - accuracy: 0.8806 - val_loss: 0.1901 - val_accuracy: 0.8781\n",
            "Epoch 142/150\n",
            "50/50 [==============================] - 0s 6ms/step - loss: 0.2037 - accuracy: 0.8874 - val_loss: 0.1985 - val_accuracy: 0.8781\n",
            "Epoch 143/150\n",
            "50/50 [==============================] - 0s 6ms/step - loss: 0.2170 - accuracy: 0.8899 - val_loss: 0.2021 - val_accuracy: 0.8938\n",
            "Epoch 144/150\n",
            "50/50 [==============================] - 0s 5ms/step - loss: 0.2138 - accuracy: 0.8893 - val_loss: 0.1977 - val_accuracy: 0.8906\n",
            "Epoch 145/150\n",
            "50/50 [==============================] - 0s 6ms/step - loss: 0.2194 - accuracy: 0.8843 - val_loss: 0.2048 - val_accuracy: 0.8813\n",
            "Epoch 146/150\n",
            "50/50 [==============================] - 0s 5ms/step - loss: 0.2541 - accuracy: 0.8831 - val_loss: 0.1884 - val_accuracy: 0.9062\n",
            "Epoch 147/150\n",
            "50/50 [==============================] - 0s 6ms/step - loss: 0.2196 - accuracy: 0.8831 - val_loss: 0.1856 - val_accuracy: 0.8938\n",
            "Epoch 148/150\n",
            "50/50 [==============================] - 0s 5ms/step - loss: 0.2348 - accuracy: 0.8780 - val_loss: 0.1953 - val_accuracy: 0.9031\n",
            "Epoch 149/150\n",
            "50/50 [==============================] - 0s 6ms/step - loss: 0.2480 - accuracy: 0.8837 - val_loss: 0.2172 - val_accuracy: 0.8875\n",
            "Epoch 150/150\n",
            "50/50 [==============================] - 0s 5ms/step - loss: 0.2644 - accuracy: 0.8881 - val_loss: 0.2666 - val_accuracy: 0.9000\n"
          ]
        }
      ],
      "source": [
        "#deep learning model\n",
        "model = Sequential()\n",
        "model.add(Dense(128, input_shape=input_shape, activation=\"relu\"))\n",
        "model.add(Dense(128, activation=\"relu\"))\n",
        "model.add(Dropout(0.1))\n",
        "model.add(Dense(output_shape, activation=\"softmax\"))\n",
        "adam = tf.keras.optimizers.Adam(learning_rate=0.01, decay=1e-6)\n",
        "model.compile(loss='categorical_crossentropy',\n",
        "              optimizer=adam,\n",
        "              metrics=[\"accuracy\"])\n",
        "print(model.summary())\n",
        "\n",
        "history_dl = model.fit(x=train_X, \n",
        "                       y=train_y,\n",
        "                       epochs=150,\n",
        "                       verbose=1,\n",
        "                       workers = 2,\n",
        "                       validation_data=(x_test, y_test)\n",
        "                          )"
      ]
    },
    {
      "cell_type": "markdown",
      "metadata": {
        "id": "3FDHDr3Gh4rw"
      },
      "source": [
        "# Model Evaluation Performance & Experiments"
      ]
    },
    {
      "cell_type": "code",
      "execution_count": 68,
      "metadata": {
        "colab": {
          "base_uri": "https://localhost:8080/",
          "height": 573
        },
        "id": "jhfz3BsfxzIm",
        "outputId": "74d9daba-72d4-4a1d-acd4-54233b688af2"
      },
      "outputs": [
        {
          "data": {
            "image/png": "[encoded data removed]",
            "text/plain": [
              "<Figure size 576x288 with 1 Axes>"
            ]
          },
          "metadata": {
            "needs_background": "light"
          },
          "output_type": "display_data"
        },
        {
          "data": {
            "image/png": "[encoded data removed]",
            "text/plain": [
              "<Figure size 576x288 with 1 Axes>"
            ]
          },
          "metadata": {
            "needs_background": "light"
          },
          "output_type": "display_data"
        }
      ],
      "source": [
        "import matplotlib.pyplot as plt\n",
        "\n",
        "plt.figure(figsize=(8,4))\n",
        "plt.plot(history_dl.history['accuracy'])\n",
        "plt.plot(history_dl.history['val_accuracy'])\n",
        "plt.title('Model Accuracy Performance')\n",
        "plt.xlabel('epoch')\n",
        "plt.legend(['train','validation'], loc='upper left') \n",
        "plt.show()\n",
        "\n",
        "\n",
        "plt.figure(figsize=(8,4))\n",
        "plt.plot(history_dl.history['loss'])\n",
        "plt.plot(history_dl.history['val_loss'])\n",
        "plt.title('Model Loss Performance')\n",
        "plt.xlabel('epoch')\n",
        "plt.legend(['train','validation'], loc='upper left') \n",
        "plt.show()"
      ]
    },
    {
      "cell_type": "code",
      "execution_count": null,
      "metadata": {
        "colab": {
          "base_uri": "https://localhost:8080/",
          "height": 270
        },
        "id": "gMe8mDkj8bYk",
        "outputId": "7ddb1fb2-80e9-4270-d21a-62aba86587c9"
      },
      "outputs": [],
      "source": [
        "# Load the TensorBoard notebook extension\n",
        "%load_ext tensorboard\n",
        "\n",
        "# Clear any logs from previous runs\n",
        "!rm -rf ./logs/\n",
        "\n",
        "from tensorboard.plugins.hparams import api as hp\n",
        "\n",
        "HP_NUM_UNITS1 = hp.HParam('num_units1', hp.Discrete([32, 64, 128, 256]))\n",
        "HP_NUM_UNITS2 = hp.HParam('num_units2', hp.Discrete([32, 64, 128, 256]))\n",
        "HP_DROPOUT = hp.HParam('dropout', hp.RealInterval(0.1, 0.5))\n",
        "HP_OPTIMIZER = hp.HParam('optimizer', hp.Discrete(['adam', 'sgd']))\n",
        "\n",
        "METRIC_ACCURACY = 'accuracy'\n",
        "\n",
        "with tf.summary.create_file_writer('logs/hparam_tuning').as_default():\n",
        "  hp.hparams_config(\n",
        "    hparams=[HP_NUM_UNITS1, HP_NUM_UNITS2, HP_DROPOUT, HP_OPTIMIZER],\n",
        "    metrics=[hp.Metric(METRIC_ACCURACY, display_name='Accuracy')],\n",
        "  )\n",
        "\n",
        "from sklearn.model_selection import train_test_split\n",
        "\n",
        "X = list(training[:, 0])\n",
        "Y = list(training[:, 1])\n",
        "\n",
        "x_train,x_test, y_train, y_test = train_test_split(X,Y,test_size=0.2)\n",
        "x_train = X\n",
        "y_train = Y \n",
        "\n",
        "session_num = 0\n",
        "\n",
        "def train_test_model(hparams):\n",
        "    model = Sequential()\n",
        "    model.add(Dense(hparams[HP_NUM_UNITS1], input_shape=input_shape, activation=\"relu\"))\n",
        "    model.add(Dropout(hparams[HP_DROPOUT]))\n",
        "    model.add(Dense(hparams[HP_NUM_UNITS2], activation=\"relu\"))\n",
        "    model.add(Dense(output_shape, activation=\"softmax\"))\n",
        "    model.compile(loss='categorical_crossentropy',\n",
        "                optimizer=hparams[HP_OPTIMIZER],\n",
        "                metrics=[\"accuracy\"]) \n",
        "\n",
        "    model.fit(x_train, y_train, epochs=50) # Run with 1 epoch to speed things up for demo purposes_, \n",
        "\n",
        "    accuracy = model.evaluate(x_test, y_test)\n",
        "    return accuracy[1]\n",
        "\n",
        "def run(run_dir, hparams):\n",
        "  with tf.summary.create_file_writer(run_dir).as_default():\n",
        "    hp.hparams(hparams)  # record the values used in this trial\n",
        "    accuracy = train_test_model(hparams)\n",
        "    tf.summary.scalar(METRIC_ACCURACY, accuracy, step=1)\n",
        "\n",
        "for num_units1 in HP_NUM_UNITS1.domain.values:\n",
        "  for num_units2 in HP_NUM_UNITS2.domain.values:\n",
        "    for dropout_rate in (HP_DROPOUT.domain.min_value, HP_DROPOUT.domain.max_value):\n",
        "      for optimizer in HP_OPTIMIZER.domain.values:\n",
        "        hparams = {\n",
        "            HP_NUM_UNITS1: num_units1,\n",
        "            HP_NUM_UNITS2: num_units2,\n",
        "            HP_DROPOUT: dropout_rate,\n",
        "            HP_OPTIMIZER: optimizer,\n",
        "        }\n",
        "        run_name = \"run-%d\" % session_num\n",
        "        print('--- Starting trial: %s' % run_name)\n",
        "        print({h.name: hparams[h] for h in hparams})\n",
        "        run('logs/hparam_tuning/' + run_name, hparams)\n",
        "        session_num += 1"
      ]
    },
    {
      "cell_type": "markdown",
      "metadata": {
        "id": "dJhTrJ7Ix1Td"
      },
      "source": [
        "# Function"
      ]
    },
    {
      "cell_type": "code",
      "execution_count": 21,
      "metadata": {
        "id": "13-xAZPoU0iX"
      },
      "outputs": [],
      "source": [
        "# Text cosine similiarity\n",
        "def get_cosine(vec1, vec2):\n",
        "    intersection = set(vec1.keys()) & set(vec2.keys())\n",
        "    numerator = sum([vec1[x] * vec2[x] for x in intersection])\n",
        "\n",
        "    sum1 = sum([vec1[x]**2 for x in vec1.keys()])\n",
        "    sum2 = sum([vec2[x]**2 for x in vec2.keys()])\n",
        "    denominator = math.sqrt(sum1) * math.sqrt(sum2)\n",
        "\n",
        "    if not denominator:\n",
        "        return 0.0\n",
        "    else:\n",
        "        return float(numerator) / (denominator)\n",
        "\n",
        "\n",
        "def text_to_vector(text):\n",
        "    word = re.compile(r'\\w+')\n",
        "    words = word.findall(text)\n",
        "    return Counter(words)\n",
        "\n",
        "\n",
        "def kesamaan(content_a, content_b):\n",
        "    text1 = \" \".join(content_a)\n",
        "    text2 = \" \".join(content_b)\n",
        "\n",
        "    vector1 = text_to_vector(text1)\n",
        "    vector2 = text_to_vector(text2)\n",
        "\n",
        "    cosine_result = get_cosine(vector1, vector2)\n",
        "    return cosine_result"
      ]
    },
    {
      "cell_type": "code",
      "execution_count": 22,
      "metadata": {},
      "outputs": [],
      "source": [
        "import Sastrawi\n",
        "from Sastrawi.Stemmer.StemmerFactory import StemmerFactory\n",
        "factory = StemmerFactory()\n",
        "stemmer = factory.create_stemmer()\n",
        "import re\n",
        "\n",
        "# import nltk stopword indonesia from stopword_list.txt\n",
        "stop_words = []\n",
        "with open('stopword_list.txt') as f:\n",
        "        stop_words = f.read().splitlines()\n",
        "\n",
        "def removeStopwords(text):\n",
        "        text = text.split(' ')\n",
        "        text = [x for x in text if x not in stop_words]\n",
        "        return ' '.join(text)\n",
        "\n",
        "# import indonesian-words.txt to word list\n",
        "word = []\n",
        "with open('indonesian-words.txt') as f:\n",
        "        word = f.read().splitlines()\n",
        "        \n",
        "def removeNonWords(text):\n",
        "        text = text.split(' ')\n",
        "        text = [x for x in text if x in word]\n",
        "        return ' '.join(text)\n",
        "\n",
        "def stemSentence(sentence):\n",
        "        return stemmer.stem(sentence)\n",
        "\n",
        "def cleanTag(text):\n",
        "        text = text.replace('<p>','').replace('</p>','').replace('<ol>','').replace('</ol>','').replace('<li>','').replace('</li>','').replace('<ul>','').replace('</ul>','').replace('<br>','').replace('br','').replace('<strong>','').replace('</strong>','').replace('<em>','').replace('</em>','').replace('<a href=\"','').replace('\">','').replace('</a>','').replace('<img src=\"','').replace('\" alt=\"','').replace('\" />','').replace('< />','').replace('\\xa0','')\n",
        "        return text\n",
        "\n",
        "def cleanTagIntent(text):\n",
        "        text = re.sub(r'[^\\w\\s]', '',text)\n",
        "        text = text.lower().replace('keuangan','').replace('kemahasiswaan','').replace('akademik','').strip()\n",
        "        text = text.replace('_',' ')\n",
        "        return text\n",
        "\n",
        "\n",
        "def cleanText(text):\n",
        "        text = cleanTag(text)\n",
        "        text = stemSentence(text)\n",
        "        text = removeStopwords(text)\n",
        "        text = removeNonWords(text)\n",
        "        return text"
      ]
    },
    {
      "cell_type": "code",
      "execution_count": 48,
      "metadata": {
        "id": "AKulXJyip7kt"
      },
      "outputs": [],
      "source": [
        "from Sastrawi.Stemmer.StemmerFactory import StemmerFactory\n",
        "\n",
        "def clean_text(text):\n",
        "    text = cleanText(text)\n",
        "    tokens = nltk.word_tokenize(text)\n",
        "    tokens = [word for word in tokens]\n",
        "    return tokens\n",
        "\n",
        "\n",
        "def bag_of_words(text, vocab):\n",
        "    tokens = clean_text(text)\n",
        "    bow = [0] * len(vocab)\n",
        "    for w in tokens:\n",
        "        for idx, word in enumerate(vocab):\n",
        "            # if kesamaan(word,w) > 0.90:\n",
        "            #     print(word,'<=>',w,kesamaan(word,w))\n",
        "            #     bow[idx] = 1\n",
        "            if word == w:\n",
        "                # print(word)\n",
        "                bow[idx] = 1\n",
        "    return np.array(bow)\n",
        "\n",
        "\n",
        "def pred_class(text, vocab, labels):\n",
        "    bow = bag_of_words(text, vocab)\n",
        "    result = model.predict(np.array([bow]))[0]\n",
        "    # print(bow)\n",
        "    # melakukan iterasi dari seluruh kemungkinan kelas\n",
        "    thresh = 0.5\n",
        "    y_pred = [[idx, res] for idx, res in enumerate(result) if res > thresh]\n",
        "\n",
        "    y_pred.sort(key=lambda x: x[1], reverse=True)\n",
        "    # print(y_pred)\n",
        "    return_list = []\n",
        "\n",
        "    for r in y_pred:\n",
        "        return_list.append(labels[r[0]])\n",
        "    if (len(return_list)) == 0:\n",
        "        return [\"no_response\"]\n",
        "    else:\n",
        "        return return_list\n",
        "\n",
        "def pred_class_ml(text, vocab, labels):\n",
        "    bow = bag_of_words(text, vocab)\n",
        "    result = model_ml.predict(np.array([bow]))[0]\n",
        "    thresh = 0.5\n",
        "    y_pred = [[idx, res] for idx, res in enumerate(result) if res > thresh]\n",
        "\n",
        "    y_pred.sort(key=lambda x: x[1], reverse=True)\n",
        "    return_list = []\n",
        "\n",
        "    for r in y_pred:\n",
        "        return_list.append(labels[r[0]])\n",
        "    if (len(return_list)) == 0:\n",
        "        return [\"no_response\"]\n",
        "    else:\n",
        "        return return_list\n",
        "\n",
        "\n",
        "def get_response(intents_list, intents_json):\n",
        "    tag = intents_list[0]\n",
        "    list_of_intents = intents_json[\"intents\"]\n",
        "    for i in list_of_intents:\n",
        "        if i[\"tag\"] == tag:\n",
        "            result = random.choice(i[\"responses\"])\n",
        "            break\n",
        "    return result"
      ]
    },
    {
      "cell_type": "markdown",
      "metadata": {
        "id": "AZieDcn9xycQ"
      },
      "source": [
        "# Test reponse"
      ]
    },
    {
      "cell_type": "code",
      "execution_count": 78,
      "metadata": {
        "colab": {
          "base_uri": "https://localhost:8080/",
          "height": 314
        },
        "id": "FsgAki2qn8TA",
        "outputId": "05670c38-8ed0-4673-bff0-172ac6491d8b"
      },
      "outputs": [
        {
          "name": "stdout",
          "output_type": "stream",
          "text": [
            "saya ingin angsur ukt\n",
            "angsur\n",
            "ukt\n",
            "[0 0 0 0 0 0 0 0 0 0 0 0 0 0 0 0 0 0 0 0 0 0 0 0 0 0 0 0 0 0 0 0 0 0 0 0 0\n",
            " 0 0 0 0 0 1 0 0 0 0 0 0 0 0 0 0 0 0 0 0 0 0 0 0 0 0 0 0 0 0 0 0 0 0 0 0 0\n",
            " 0 0 0 0 0 0 0 0 0 0 0 0 0 0 0 0 0 0 0 0 0 0 0 0 0 0 0 0 0 0 0 0 0 0 0 0 0\n",
            " 0 0 0 0 0 0 0 0 0 0 0 0 0 0 0 0 0 0 0 0 0 0 0 0 0 0 0 0 0 0 0 0 0 0 0 0 0\n",
            " 0 0 0 0 0 0 0 0 0 0 0 0 0 0 0 0 0 0 0 0 0 0 0 0 0 0 0 0 0 0 0 0 0 0 0 0 0\n",
            " 0 0 0 0 0 0 0 0 0 0 0 0 0 0 0 0 0 0 0 0 0 0 0 0 0 0 0 0 0 0 0 0 0 0 0 0 0\n",
            " 0 0 0 0 0 0 0 0 0 0 0 0 0 0 0 0 0 0 0 0 0 0 0 0 0 0 0 0 0 0 0 0 0 0 0 0 0\n",
            " 0 0 0 0 0 0 0 0 0 0 0 0 0 0 0 0 0 0 0 0 0 0 0 0 0 0 0 0 0 0 0 0 0 0 0 0 0\n",
            " 0 0 0 0 0 0 0 0 0 0 0 0 0 0 0 0 0 0 0 0 0 0 0 0 0 0 0 0 0 0 0 0 0 0 0 0 0\n",
            " 0 0 0 0 0 0 0 0 0 0 0 0 0 0 0 0 0 0 0 0 0 0 0 0 0 0 0 0 0 0 0 0 0 0 0 0 0\n",
            " 0 0 0 0 0 0 0 0 0 0 0 0 0 0 0 0 0 0 0 0 0 0 0 0 0 0 0 0 0 0 0 0 0 0 0 0 0\n",
            " 0 0 0 0 0 0 0 0 0 0 0 0 0 0 0 0 0 0 0 0 0 0 0 0 0 0 0 0 0 0 0 0 0 0 0 0 0\n",
            " 0 0 0 0 0 0 0 0 0 0 0 0 0 0 0 0 0 0 0 0 0 0 0 0 0 0 0 0 0 0 0 0 0 0 0 0 0\n",
            " 0 0 0 0 0 0 0 0 0 0 0 0 0 0 0 0 0 0 0 0 0 0 0 0 0 0 0 0 0 0 0 0 0 0 0 0 0\n",
            " 0 0 0 0 0 0 0 0 0 0 0 0 0 0 0 0 0 0 0 0 0 0 0 0 0 0 0 0 0 0 0 0 0 0 0 0 0\n",
            " 0 0 0 0 0 0 0 0 0 0 1 0 0 0 0 0 0 0 0 0 0 0 0 0 0 0 0 0 0 0 0 0 0 0]\n",
            "[[21, 0.82676446]]\n",
            "['foto_yudisium_sc218']\n"
          ]
        },
        {
          "data": {
            "text/plain": [
              "'Terima Kasih telah menghubungi halo filkom, - setelah upload foto &amp; KTM pada folder drive, mahasiswa diharapkan tetap mengumpulkan pada filkom lt 1 dg memberikan konfirmasi kepada WA center Yudisium- progres yudisium view_mhs FILKOM bisa dilihat pada :https://docs.google.com/spreadsheets/d/1nWPCbAI-rnqGNcyLXf8BDk2p5wFHZicmNyjc4ELNCWM/edit?resourcekey&amp;pli=1#gid=1724341464\" target=\"_blankhttps://docs.google.com/spreadsheets/d/1nWPCbAI-rnqGNcyLXf8BDk2p5wFHZicmNyjc4ELNCWM/edit?resourcekey&amp;pli=1#gid=1724341464 Pengajuan yudisium FILKOM : https://docs.google.com/forms/d/18TAxwwMnGuyOrPkDFUz_aopslsVIfKw7vaoCmiMtdQs/viewform?edit_requested=true\" target=\"_blankhttps://docs.google.com/forms/d/18TAxwwMnGuyOrPkDFUz_aopslsVIfKw7vaoCmiMtdQs/viewform?edit_requested=true Terimakasih'"
            ]
          },
          "execution_count": 78,
          "metadata": {},
          "output_type": "execute_result"
        }
      ],
      "source": [
        "intext = input(\"Masukkan : \")\n",
        "intext = stem_text(intext)\n",
        "print(intext)\n",
        "intent = pred_class(intext, words, classes)\n",
        "print(intent)\n",
        "get_response(intent,data)"
      ]
    },
    {
      "cell_type": "markdown",
      "metadata": {},
      "source": [
        "### Test with augmented data"
      ]
    },
    {
      "cell_type": "code",
      "execution_count": 79,
      "metadata": {},
      "outputs": [],
      "source": [
        "df_latih_sample = pd.read_csv('data_latih_bisakeknya_augmented.csv').drop(columns=['patterns'])"
      ]
    },
    {
      "cell_type": "code",
      "execution_count": 81,
      "metadata": {},
      "outputs": [
        {
          "data": {
            "text/html": [
              "<div>\n",
              "<style scoped>\n",
              "    .dataframe tbody tr th:only-of-type {\n",
              "        vertical-align: middle;\n",
              "    }\n",
              "\n",
              "    .dataframe tbody tr th {\n",
              "        vertical-align: top;\n",
              "    }\n",
              "\n",
              "    .dataframe thead th {\n",
              "        text-align: right;\n",
              "    }\n",
              "</style>\n",
              "<table border=\"1\" class=\"dataframe\">\n",
              "  <thead>\n",
              "    <tr style=\"text-align: right;\">\n",
              "      <th></th>\n",
              "      <th>classes</th>\n",
              "      <th>text</th>\n",
              "    </tr>\n",
              "  </thead>\n",
              "  <tbody>\n",
              "    <tr>\n",
              "      <th>0</th>\n",
              "      <td>pengajuan_proposal_skripsi_di_luar_jadwal_jtif</td>\n",
              "      <td>tombol hijau coba kait</td>\n",
              "    </tr>\n",
              "    <tr>\n",
              "      <th>1</th>\n",
              "      <td>registrasi_mahasiswa_lama</td>\n",
              "      <td>ukt siam status open status tolak</td>\n",
              "    </tr>\n",
              "    <tr>\n",
              "      <th>2</th>\n",
              "      <td>tahapan_pendaftaran_wisuda</td>\n",
              "      <td>period list limit prosedur</td>\n",
              "    </tr>\n",
              "    <tr>\n",
              "      <th>3</th>\n",
              "      <td>proposal_skripsi_di_luar_jadwal_jtif</td>\n",
              "      <td>Rabu redefinisi saran dispensasi menghubungkan...</td>\n",
              "    </tr>\n",
              "    <tr>\n",
              "      <th>4</th>\n",
              "      <td>ijazah</td>\n",
              "      <td>nilai target bawah berpikir target mengambil k...</td>\n",
              "    </tr>\n",
              "    <tr>\n",
              "      <th>...</th>\n",
              "      <td>...</td>\n",
              "      <td>...</td>\n",
              "    </tr>\n",
              "    <tr>\n",
              "      <th>695</th>\n",
              "      <td>presensi_perkuliahan</td>\n",
              "      <td>tes mata langsung</td>\n",
              "    </tr>\n",
              "    <tr>\n",
              "      <th>696</th>\n",
              "      <td>surat_aktif_kuliah</td>\n",
              "      <td>Bukti aktif ayah data penggajian lengkap.</td>\n",
              "    </tr>\n",
              "    <tr>\n",
              "      <th>697</th>\n",
              "      <td>revisi_skripsi</td>\n",
              "      <td>Kepala lembar departemen.</td>\n",
              "    </tr>\n",
              "    <tr>\n",
              "      <th>698</th>\n",
              "      <td>turnitin_prasyarat_sd_melihat_hasil_turnitin</td>\n",
              "      <td>dosen profesor dari artikel platform memeriksa...</td>\n",
              "    </tr>\n",
              "    <tr>\n",
              "      <th>699</th>\n",
              "      <td>pengajuan_transkrip_keperluan_beasiswa_mhs_do_...</td>\n",
              "      <td>kemajuan</td>\n",
              "    </tr>\n",
              "  </tbody>\n",
              "</table>\n",
              "<p>700 rows × 2 columns</p>\n",
              "</div>"
            ],
            "text/plain": [
              "                                               classes  \\\n",
              "0       pengajuan_proposal_skripsi_di_luar_jadwal_jtif   \n",
              "1                            registrasi_mahasiswa_lama   \n",
              "2                           tahapan_pendaftaran_wisuda   \n",
              "3                 proposal_skripsi_di_luar_jadwal_jtif   \n",
              "4                                               ijazah   \n",
              "..                                                 ...   \n",
              "695                               presensi_perkuliahan   \n",
              "696                                 surat_aktif_kuliah   \n",
              "697                                     revisi_skripsi   \n",
              "698       turnitin_prasyarat_sd_melihat_hasil_turnitin   \n",
              "699  pengajuan_transkrip_keperluan_beasiswa_mhs_do_...   \n",
              "\n",
              "                                                  text  \n",
              "0                               tombol hijau coba kait  \n",
              "1                    ukt siam status open status tolak  \n",
              "2                           period list limit prosedur  \n",
              "3    Rabu redefinisi saran dispensasi menghubungkan...  \n",
              "4    nilai target bawah berpikir target mengambil k...  \n",
              "..                                                 ...  \n",
              "695                                  tes mata langsung  \n",
              "696          Bukti aktif ayah data penggajian lengkap.  \n",
              "697                          Kepala lembar departemen.  \n",
              "698  dosen profesor dari artikel platform memeriksa...  \n",
              "699                                           kemajuan  \n",
              "\n",
              "[700 rows x 2 columns]"
            ]
          },
          "execution_count": 81,
          "metadata": {},
          "output_type": "execute_result"
        }
      ],
      "source": [
        "df_latih_sample"
      ]
    },
    {
      "cell_type": "code",
      "execution_count": 83,
      "metadata": {},
      "outputs": [
        {
          "data": {
            "text/html": [
              "<div>\n",
              "<style scoped>\n",
              "    .dataframe tbody tr th:only-of-type {\n",
              "        vertical-align: middle;\n",
              "    }\n",
              "\n",
              "    .dataframe tbody tr th {\n",
              "        vertical-align: top;\n",
              "    }\n",
              "\n",
              "    .dataframe thead th {\n",
              "        text-align: right;\n",
              "    }\n",
              "</style>\n",
              "<table border=\"1\" class=\"dataframe\">\n",
              "  <thead>\n",
              "    <tr style=\"text-align: right;\">\n",
              "      <th></th>\n",
              "      <th>classes</th>\n",
              "      <th>text</th>\n",
              "    </tr>\n",
              "  </thead>\n",
              "  <tbody>\n",
              "    <tr>\n",
              "      <th>0</th>\n",
              "      <td>pengajuan_proposal_skripsi_di_luar_jadwal_jtif</td>\n",
              "      <td>tombol hijau coba kait</td>\n",
              "    </tr>\n",
              "    <tr>\n",
              "      <th>1</th>\n",
              "      <td>registrasi_mahasiswa_lama</td>\n",
              "      <td>ukt siam status open status tolak</td>\n",
              "    </tr>\n",
              "    <tr>\n",
              "      <th>2</th>\n",
              "      <td>tahapan_pendaftaran_wisuda</td>\n",
              "      <td>prosedur</td>\n",
              "    </tr>\n",
              "    <tr>\n",
              "      <th>3</th>\n",
              "      <td>proposal_skripsi_di_luar_jadwal_jtif</td>\n",
              "      <td>rabu redefinisi saran dispensasi hubung saran</td>\n",
              "    </tr>\n",
              "    <tr>\n",
              "      <th>4</th>\n",
              "      <td>ijazah</td>\n",
              "      <td>nilai target pikir target ambil nilai</td>\n",
              "    </tr>\n",
              "  </tbody>\n",
              "</table>\n",
              "</div>"
            ],
            "text/plain": [
              "                                          classes  \\\n",
              "0  pengajuan_proposal_skripsi_di_luar_jadwal_jtif   \n",
              "1                       registrasi_mahasiswa_lama   \n",
              "2                      tahapan_pendaftaran_wisuda   \n",
              "3            proposal_skripsi_di_luar_jadwal_jtif   \n",
              "4                                          ijazah   \n",
              "\n",
              "                                            text  \n",
              "0                         tombol hijau coba kait  \n",
              "1              ukt siam status open status tolak  \n",
              "2                                       prosedur  \n",
              "3  rabu redefinisi saran dispensasi hubung saran  \n",
              "4          nilai target pikir target ambil nilai  "
            ]
          },
          "execution_count": 83,
          "metadata": {},
          "output_type": "execute_result"
        }
      ],
      "source": [
        "df_latih_sample['text'] = df_latih_sample['text'].apply(str)\n",
        "df_latih_sample['text'] = df_latih_sample['text'].apply(lambda x: cleanText(x))\n",
        "df_latih_sample['text'] = df_latih_sample['text'].apply(lambda x: stemSentence(x))\n",
        "df_latih_sample['text'] = df_latih_sample['text'].apply(lambda x: removeStopwords(x))\n",
        "df_latih_sample['text'] = df_latih_sample['text'].apply(lambda x: removeNonWords(x))\n",
        "df_latih_sample.head()"
      ]
    },
    {
      "cell_type": "code",
      "execution_count": 84,
      "metadata": {},
      "outputs": [],
      "source": [
        "actual_kelas = []\n",
        "predicted_kelas = []\n",
        "\n",
        "for i in range(len(df_latih_sample)):\n",
        "    text = df_latih_sample.iloc[i]['text']\n",
        "    actual_kelas += [df_latih_sample.iloc[i]['classes']]\n",
        "    predicted_kelas += [pred_class(text, words, classes)[0]]\n",
        "    "
      ]
    },
    {
      "cell_type": "code",
      "execution_count": 85,
      "metadata": {},
      "outputs": [
        {
          "data": {
            "text/html": [
              "<div>\n",
              "<style scoped>\n",
              "    .dataframe tbody tr th:only-of-type {\n",
              "        vertical-align: middle;\n",
              "    }\n",
              "\n",
              "    .dataframe tbody tr th {\n",
              "        vertical-align: top;\n",
              "    }\n",
              "\n",
              "    .dataframe thead th {\n",
              "        text-align: right;\n",
              "    }\n",
              "</style>\n",
              "<table border=\"1\" class=\"dataframe\">\n",
              "  <thead>\n",
              "    <tr style=\"text-align: right;\">\n",
              "      <th></th>\n",
              "      <th>precision</th>\n",
              "      <th>recall</th>\n",
              "      <th>f1-score</th>\n",
              "      <th>support</th>\n",
              "    </tr>\n",
              "  </thead>\n",
              "  <tbody>\n",
              "    <tr>\n",
              "      <th>alur_pasca_ujian_skripsi</th>\n",
              "      <td>1.000000</td>\n",
              "      <td>1.000000</td>\n",
              "      <td>1.000000</td>\n",
              "      <td>1.000000</td>\n",
              "    </tr>\n",
              "    <tr>\n",
              "      <th>angsur_sap</th>\n",
              "      <td>0.000000</td>\n",
              "      <td>0.000000</td>\n",
              "      <td>0.000000</td>\n",
              "      <td>4.000000</td>\n",
              "    </tr>\n",
              "    <tr>\n",
              "      <th>banding_ukt_mahasiswa</th>\n",
              "      <td>1.000000</td>\n",
              "      <td>0.333333</td>\n",
              "      <td>0.500000</td>\n",
              "      <td>6.000000</td>\n",
              "    </tr>\n",
              "    <tr>\n",
              "      <th>bantuan_ukt</th>\n",
              "      <td>0.428571</td>\n",
              "      <td>0.400000</td>\n",
              "      <td>0.413793</td>\n",
              "      <td>15.000000</td>\n",
              "    </tr>\n",
              "    <tr>\n",
              "      <th>bantuan_ukt_dan_ukt_kemendikbud_ristek</th>\n",
              "      <td>1.000000</td>\n",
              "      <td>0.222222</td>\n",
              "      <td>0.363636</td>\n",
              "      <td>18.000000</td>\n",
              "    </tr>\n",
              "    <tr>\n",
              "      <th>...</th>\n",
              "      <td>...</td>\n",
              "      <td>...</td>\n",
              "      <td>...</td>\n",
              "      <td>...</td>\n",
              "    </tr>\n",
              "    <tr>\n",
              "      <th>verifikasi_skm</th>\n",
              "      <td>0.928571</td>\n",
              "      <td>1.000000</td>\n",
              "      <td>0.962963</td>\n",
              "      <td>13.000000</td>\n",
              "    </tr>\n",
              "    <tr>\n",
              "      <th>yudisium</th>\n",
              "      <td>0.625000</td>\n",
              "      <td>0.555556</td>\n",
              "      <td>0.588235</td>\n",
              "      <td>9.000000</td>\n",
              "    </tr>\n",
              "    <tr>\n",
              "      <th>accuracy</th>\n",
              "      <td>0.484286</td>\n",
              "      <td>0.484286</td>\n",
              "      <td>0.484286</td>\n",
              "      <td>0.484286</td>\n",
              "    </tr>\n",
              "    <tr>\n",
              "      <th>macro avg</th>\n",
              "      <td>0.512547</td>\n",
              "      <td>0.464116</td>\n",
              "      <td>0.460248</td>\n",
              "      <td>700.000000</td>\n",
              "    </tr>\n",
              "    <tr>\n",
              "      <th>weighted avg</th>\n",
              "      <td>0.582140</td>\n",
              "      <td>0.484286</td>\n",
              "      <td>0.500553</td>\n",
              "      <td>700.000000</td>\n",
              "    </tr>\n",
              "  </tbody>\n",
              "</table>\n",
              "<p>80 rows × 4 columns</p>\n",
              "</div>"
            ],
            "text/plain": [
              "                                        precision    recall  f1-score  \\\n",
              "alur_pasca_ujian_skripsi                 1.000000  1.000000  1.000000   \n",
              "angsur_sap                               0.000000  0.000000  0.000000   \n",
              "banding_ukt_mahasiswa                    1.000000  0.333333  0.500000   \n",
              "bantuan_ukt                              0.428571  0.400000  0.413793   \n",
              "bantuan_ukt_dan_ukt_kemendikbud_ristek   1.000000  0.222222  0.363636   \n",
              "...                                           ...       ...       ...   \n",
              "verifikasi_skm                           0.928571  1.000000  0.962963   \n",
              "yudisium                                 0.625000  0.555556  0.588235   \n",
              "accuracy                                 0.484286  0.484286  0.484286   \n",
              "macro avg                                0.512547  0.464116  0.460248   \n",
              "weighted avg                             0.582140  0.484286  0.500553   \n",
              "\n",
              "                                           support  \n",
              "alur_pasca_ujian_skripsi                  1.000000  \n",
              "angsur_sap                                4.000000  \n",
              "banding_ukt_mahasiswa                     6.000000  \n",
              "bantuan_ukt                              15.000000  \n",
              "bantuan_ukt_dan_ukt_kemendikbud_ristek   18.000000  \n",
              "...                                            ...  \n",
              "verifikasi_skm                           13.000000  \n",
              "yudisium                                  9.000000  \n",
              "accuracy                                  0.484286  \n",
              "macro avg                               700.000000  \n",
              "weighted avg                            700.000000  \n",
              "\n",
              "[80 rows x 4 columns]"
            ]
          },
          "execution_count": 85,
          "metadata": {},
          "output_type": "execute_result"
        }
      ],
      "source": [
        "df_report = classification_report(actual_kelas, predicted_kelas, output_dict=True)\n",
        "df_report = pd.DataFrame(df_report).transpose()\n",
        "df_report"
      ]
    },
    {
      "cell_type": "markdown",
      "metadata": {
        "id": "Sq0iVJCJxw9j"
      },
      "source": [
        "# Save model"
      ]
    },
    {
      "cell_type": "code",
      "execution_count": null,
      "metadata": {
        "id": "Yzz7rfek9yTJ"
      },
      "outputs": [],
      "source": [
        "model.save('model_chatbot.h5')"
      ]
    },
    {
      "cell_type": "code",
      "execution_count": null,
      "metadata": {
        "id": "G6ttW-MDxDe8"
      },
      "outputs": [],
      "source": [
        "pickle.dump(model_ml,open('modelml_chatbot.pkl', 'wb'))"
      ]
    },
    {
      "cell_type": "code",
      "execution_count": null,
      "metadata": {
        "colab": {
          "base_uri": "https://localhost:8080/",
          "height": 36
        },
        "id": "65hOpSi60HzK",
        "outputId": "dbe9bd58-e98c-488b-e3ea-e998f271bf29"
      },
      "outputs": [
        {
          "data": {
            "application/vnd.google.colaboratory.intrinsic+json": {
              "type": "string"
            },
            "text/plain": [
              "'4.0'"
            ]
          },
          "execution_count": 25,
          "metadata": {},
          "output_type": "execute_result"
        }
      ],
      "source": [
        "pickle.format_version"
      ]
    },
    {
      "cell_type": "code",
      "execution_count": null,
      "metadata": {
        "id": "wAGAfOtLnlGx"
      },
      "outputs": [],
      "source": []
    },
    {
      "cell_type": "markdown",
      "metadata": {
        "id": "UpGT430caM-s"
      },
      "source": [
        "# Experiment text similiarity"
      ]
    },
    {
      "cell_type": "code",
      "execution_count": null,
      "metadata": {
        "colab": {
          "base_uri": "https://localhost:8080/"
        },
        "id": "aUp3NzrQLpd_",
        "outputId": "6a53e990-9600-4661-b3dd-c8039d19be4e"
      },
      "outputs": [
        {
          "data": {
            "text/plain": [
              "0.9058216273156767"
            ]
          },
          "execution_count": 36,
          "metadata": {},
          "output_type": "execute_result"
        }
      ],
      "source": [
        "kesamaan('agastya','saya')"
      ]
    },
    {
      "cell_type": "code",
      "execution_count": null,
      "metadata": {
        "colab": {
          "base_uri": "https://localhost:8080/"
        },
        "id": "RRqXp2o02IKa",
        "outputId": "07f70a27-28fb-42ac-99e9-71405299f63c"
      },
      "outputs": [
        {
          "data": {
            "text/plain": [
              "0.82502864732539"
            ]
          },
          "execution_count": 35,
          "metadata": {},
          "output_type": "execute_result"
        }
      ],
      "source": [
        "kesamaan('siswa','mahasiswa')"
      ]
    },
    {
      "cell_type": "code",
      "execution_count": null,
      "metadata": {
        "id": "ejvaHp6OdSQ2"
      },
      "outputs": [],
      "source": []
    }
  ],
  "metadata": {
    "colab": {
      "collapsed_sections": [],
      "provenance": [],
      "toc_visible": true
    },
    "gpuClass": "standard",
    "kernelspec": {
      "display_name": "Python 3",
      "language": "python",
      "name": "python3"
    },
    "language_info": {
      "codemirror_mode": {
        "name": "ipython",
        "version": 3
      },
      "file_extension": ".py",
      "mimetype": "text/x-python",
      "name": "python",
      "nbconvert_exporter": "python",
      "pygments_lexer": "ipython3",
      "version": "3.6.9"
    },
    "vscode": {
      "interpreter": {
        "hash": "28eae9bd557633d1da885b313a415d212381d0b87dac30d636aacc2df031352f"
      }
    }
  },
  "nbformat": 4,
  "nbformat_minor": 0
}
