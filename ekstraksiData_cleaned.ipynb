{
 "cells": [
  {
   "cell_type": "code",
   "execution_count": 1,
   "metadata": {},
   "outputs": [],
   "source": [
    "# import word from indonesian-words.txt\n",
    "import csv\n",
    "with open('indonesian-words.txt', 'r') as f:\n",
    "    reader = csv.reader(f)\n",
    "    your_list = list(reader)\n",
    "    word = [item for sublist in your_list for item in sublist]\n",
    "    "
   ]
  },
  {
   "cell_type": "code",
   "execution_count": 2,
   "metadata": {},
   "outputs": [],
   "source": [
    "# read from json\n",
    "json_path = 'intents_newV2_Combined.json'\n",
    "import json\n",
    "with open(json_path) as json_data:\n",
    "    intents = json.load(json_data)\n"
   ]
  },
  {
   "cell_type": "code",
   "execution_count": 9,
   "metadata": {},
   "outputs": [],
   "source": [
    "import Sastrawi\n",
    "from Sastrawi.Stemmer.StemmerFactory import StemmerFactory\n",
    "factory = StemmerFactory()\n",
    "stemmer = factory.create_stemmer()\n",
    "import re\n",
    "\n",
    "# import nltk stopword indonesia from stopword_list.txt\n",
    "stop_words = []\n",
    "with open('stopword_list.txt') as f:\n",
    "        stop_words = f.read().splitlines()\n",
    "\n",
    "def removeStopwords(text):\n",
    "        text = text.split(' ')\n",
    "        text = [x for x in text if x not in stop_words]\n",
    "        return ' '.join(text)\n",
    "\n",
    "def removeNonWords(text):\n",
    "        text = text.split(' ')\n",
    "        text = [x for x in text if x in word]\n",
    "        return ' '.join(text)\n",
    "\n",
    "def stemSentence(sentence):\n",
    "        return stemmer.stem(sentence)\n",
    "\n",
    "def cleanTag(text):\n",
    "        text = text.replace('<p>','').replace('</p>','').replace('<ol>','').replace('</ol>','').replace('<li>','').replace('</li>','').replace('<ul>','').replace('</ul>','').replace('<br>','').replace('br','').replace('<strong>','').replace('</strong>','').replace('<em>','').replace('</em>','').replace('<a href=\"','').replace('\">','').replace('</a>','').replace('<img src=\"','').replace('\" alt=\"','').replace('\" />','').replace('< />','').replace('\\xa0','')\n",
    "        return text\n",
    "\n",
    "def cleanTagIntent(text):\n",
    "        text = re.sub(r'[^\\w\\s]', '',text)\n",
    "        text = text.lower().replace('keuangan','').replace('kemahasiswaan','').replace('akademik','').strip()\n",
    "        text = text.replace('_',' ')\n",
    "        return text\n",
    "\n",
    "\n",
    "def cleanText(text):\n",
    "        text = cleanTag(text)\n",
    "        text = stemSentence(text)\n",
    "        text = removeStopwords(text)\n",
    "        text = removeNonWords(text)\n",
    "        return text"
   ]
  },
  {
   "cell_type": "code",
   "execution_count": 10,
   "metadata": {},
   "outputs": [],
   "source": [
    "intentsNew = dict()\n",
    "intentsNew['intents'] = []\n",
    "\n",
    "for intent in intents['intents']:\n",
    "    tag = cleanTagIntent(intent['tag'])\n",
    "    patterns = []\n",
    "    for pattern in intent['patterns']:\n",
    "        pattern = cleanText(pattern)\n",
    "        patterns.append(pattern)\n",
    "    responses = intent['responses'][0]\n",
    "\n",
    "    newIntent = {\n",
    "        'tag': tag,\n",
    "        'patterns': patterns,\n",
    "        'responses': [responses]\n",
    "    }\n",
    "    intentsNew['intents'].append(newIntent)"
   ]
  },
  {
   "cell_type": "code",
   "execution_count": 11,
   "metadata": {},
   "outputs": [],
   "source": [
    "# export to newJSON\n",
    "with open('intents_newV2SiPalingClean_v2.json', 'w') as outfile:\n",
    "    json.dump(intentsNew, outfile)"
   ]
  }
 ],
 "metadata": {
  "kernelspec": {
   "display_name": "Python 3.10.6 64-bit",
   "language": "python",
   "name": "python3"
  },
  "language_info": {
   "codemirror_mode": {
    "name": "ipython",
    "version": 3
   },
   "file_extension": ".py",
   "mimetype": "text/x-python",
   "name": "python",
   "nbconvert_exporter": "python",
   "pygments_lexer": "ipython3",
   "version": "3.10.6"
  },
  "orig_nbformat": 4,
  "vscode": {
   "interpreter": {
    "hash": "28eae9bd557633d1da885b313a415d212381d0b87dac30d636aacc2df031352f"
   }
  }
 },
 "nbformat": 4,
 "nbformat_minor": 2
}
