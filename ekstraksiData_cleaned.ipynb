{
 "cells": [
  {
   "cell_type": "code",
   "execution_count": 1,
   "metadata": {},
   "outputs": [
    {
     "name": "stderr",
     "output_type": "stream",
     "text": [
      "[nltk_data] Downloading package stopwords to\n",
      "[nltk_data]     C:\\Users\\AndiAlif\\AppData\\Roaming\\nltk_data...\n",
      "[nltk_data]   Package stopwords is already up-to-date!\n"
     ]
    }
   ],
   "source": []
  },
  {
   "cell_type": "code",
   "execution_count": 37,
   "metadata": {},
   "outputs": [],
   "source": [
    "# import word from indonesian-words.txt\n",
    "import csv\n",
    "with open('indonesian-words.txt', 'r') as f:\n",
    "    reader = csv.reader(f)\n",
    "    your_list = list(reader)\n",
    "    word = [item for sublist in your_list for item in sublist]\n",
    "    "
   ]
  },
  {
   "cell_type": "code",
   "execution_count": 42,
   "metadata": {},
   "outputs": [],
   "source": [
    "# read from json\n",
    "json_path = 'intents_newV2_cleaned.json'\n",
    "import json\n",
    "with open(json_path) as json_data:\n",
    "    intents = json.load(json_data)\n"
   ]
  },
  {
   "cell_type": "code",
   "execution_count": 43,
   "metadata": {},
   "outputs": [
    {
     "name": "stderr",
     "output_type": "stream",
     "text": [
      "[nltk_data] Downloading package stopwords to\n",
      "[nltk_data]     C:\\Users\\AndiAlif\\AppData\\Roaming\\nltk_data...\n",
      "[nltk_data]   Package stopwords is already up-to-date!\n"
     ]
    }
   ],
   "source": [
    "import re\n",
    "\n",
    "import Sastrawi\n",
    "from Sastrawi.Stemmer.StemmerFactory import StemmerFactory\n",
    "factory = StemmerFactory()\n",
    "stemmer = factory.create_stemmer()\n",
    "\n",
    "# import nltk stopword indonesia\n",
    "import nltk\n",
    "nltk.download('stopwords')\n",
    "from nltk.corpus import stopwords\n",
    "stop_words = set(stopwords.words('indonesian'))\n",
    "\n",
    "def cleanTagIntent(tag):\n",
    "    newTag = re.sub(r'[^\\w\\s]', '', tag)\n",
    "    newTag = newTag.replace('_',' ')\n",
    "    newTag = newTag.lower().replace('keuangan','').replace('kemahasiswaan','').replace('akademik','').strip()\n",
    "    newTag = newTag.replace(' ','_')\n",
    "    newTag = newTag.replace('__','_')\n",
    "    return newTag\n",
    "\n",
    "def removeStopwords(text):\n",
    "    text = text.split(' ')\n",
    "    text = [x for x in text if x not in stop_words]\n",
    "    return ' '.join(text)\n",
    "\n",
    "def stemSentence(sentence):\n",
    "    return stemmer.stem(sentence)\n",
    "\n",
    "def cleanTag(teks):\n",
    "    teks = teks.replace('<p>','').replace('</p>','').replace('<ol>','').replace('</ol>','').replace('<li>','').replace('</li>','').replace('<ul>','').replace('</ul>','').replace('<br>','').replace('br','').replace('<strong>','').replace('</strong>','').replace('<em>','').replace('</em>','').replace('<a href=\"','').replace('\">','').replace('</a>','').replace('<img src=\"','').replace('\" alt=\"','').replace('\" />','').replace('< />','').replace('\\xa0','')\n",
    "    return teks\n",
    "\n",
    "def removeNonWords(text):\n",
    "    text = text.split(' ')\n",
    "    text = [x for x in text if x in word]\n",
    "    return ' '.join(text)\n",
    "\n",
    "def cleanText(text):\n",
    "    text = cleanTag(text)\n",
    "    text = removeStopwords(text)\n",
    "    text = removeNonWords(text)\n",
    "    text = stemSentence(text)\n",
    "    return text"
   ]
  },
  {
   "cell_type": "code",
   "execution_count": 44,
   "metadata": {},
   "outputs": [
    {
     "ename": "AttributeError",
     "evalue": "'dict' object has no attribute 'append'",
     "output_type": "error",
     "traceback": [
      "\u001b[1;31m---------------------------------------------------------------------------\u001b[0m",
      "\u001b[1;31mAttributeError\u001b[0m                            Traceback (most recent call last)",
      "\u001b[1;32me:\\Project_Mgodonf\\Halofilkom_dump\\ekstraksiData_cleaned.ipynb Cell 5\u001b[0m in \u001b[0;36m<cell line: 3>\u001b[1;34m()\u001b[0m\n\u001b[0;32m      <a href='vscode-notebook-cell:/e%3A/Project_Mgodonf/Halofilkom_dump/ekstraksiData_cleaned.ipynb#W5sZmlsZQ%3D%3D?line=8'>9</a>\u001b[0m responses \u001b[39m=\u001b[39m cleanText(intent[\u001b[39m'\u001b[39m\u001b[39mresponses\u001b[39m\u001b[39m'\u001b[39m][\u001b[39m0\u001b[39m])\n\u001b[0;32m     <a href='vscode-notebook-cell:/e%3A/Project_Mgodonf/Halofilkom_dump/ekstraksiData_cleaned.ipynb#W5sZmlsZQ%3D%3D?line=10'>11</a>\u001b[0m newIntent \u001b[39m=\u001b[39m {\n\u001b[0;32m     <a href='vscode-notebook-cell:/e%3A/Project_Mgodonf/Halofilkom_dump/ekstraksiData_cleaned.ipynb#W5sZmlsZQ%3D%3D?line=11'>12</a>\u001b[0m     \u001b[39m'\u001b[39m\u001b[39mtag\u001b[39m\u001b[39m'\u001b[39m: tag,\n\u001b[0;32m     <a href='vscode-notebook-cell:/e%3A/Project_Mgodonf/Halofilkom_dump/ekstraksiData_cleaned.ipynb#W5sZmlsZQ%3D%3D?line=12'>13</a>\u001b[0m     \u001b[39m'\u001b[39m\u001b[39mpatterns\u001b[39m\u001b[39m'\u001b[39m: patterns,\n\u001b[0;32m     <a href='vscode-notebook-cell:/e%3A/Project_Mgodonf/Halofilkom_dump/ekstraksiData_cleaned.ipynb#W5sZmlsZQ%3D%3D?line=13'>14</a>\u001b[0m     \u001b[39m'\u001b[39m\u001b[39mresponses\u001b[39m\u001b[39m'\u001b[39m: responses\n\u001b[0;32m     <a href='vscode-notebook-cell:/e%3A/Project_Mgodonf/Halofilkom_dump/ekstraksiData_cleaned.ipynb#W5sZmlsZQ%3D%3D?line=14'>15</a>\u001b[0m }\n\u001b[1;32m---> <a href='vscode-notebook-cell:/e%3A/Project_Mgodonf/Halofilkom_dump/ekstraksiData_cleaned.ipynb#W5sZmlsZQ%3D%3D?line=15'>16</a>\u001b[0m intentsNew\u001b[39m.\u001b[39;49mappend(newIntent)\n",
      "\u001b[1;31mAttributeError\u001b[0m: 'dict' object has no attribute 'append'"
     ]
    }
   ],
   "source": [
    "intentsNew = dict()\n",
    "intentsNew['intents'] = []\n",
    "\n",
    "for intent in intents['intents']:\n",
    "    tag = cleanTagIntent(intent['tag'])\n",
    "    patterns = []\n",
    "    for pattern in intent['patterns']:\n",
    "        pattern = cleanText(pattern)\n",
    "        patterns.append(pattern)\n",
    "    responses = cleanText(intent['responses'][0])\n",
    "\n",
    "    newIntent = {\n",
    "        'tag': tag,\n",
    "        'patterns': patterns,\n",
    "        'responses': responses\n",
    "    }\n",
    "    intentsNew.append(newIntent)"
   ]
  },
  {
   "cell_type": "code",
   "execution_count": null,
   "metadata": {},
   "outputs": [],
   "source": []
  }
 ],
 "metadata": {
  "kernelspec": {
   "display_name": "Python 3.10.6 64-bit",
   "language": "python",
   "name": "python3"
  },
  "language_info": {
   "codemirror_mode": {
    "name": "ipython",
    "version": 3
   },
   "file_extension": ".py",
   "mimetype": "text/x-python",
   "name": "python",
   "nbconvert_exporter": "python",
   "pygments_lexer": "ipython3",
   "version": "3.10.6"
  },
  "orig_nbformat": 4,
  "vscode": {
   "interpreter": {
    "hash": "28eae9bd557633d1da885b313a415d212381d0b87dac30d636aacc2df031352f"
   }
  }
 },
 "nbformat": 4,
 "nbformat_minor": 2
}
